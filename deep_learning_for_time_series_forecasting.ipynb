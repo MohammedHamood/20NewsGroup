{
  "nbformat": 4,
  "nbformat_minor": 0,
  "metadata": {
    "kernelspec": {
      "display_name": "Python 3",
      "language": "python",
      "name": "python3"
    },
    "language_info": {
      "name": "python",
      "version": "3.6.6",
      "mimetype": "text/x-python",
      "codemirror_mode": {
        "name": "ipython",
        "version": 3
      },
      "pygments_lexer": "ipython3",
      "nbconvert_exporter": "python",
      "file_extension": ".py"
    },
    "colab": {
      "provenance": [],
      "include_colab_link": true
    }
  },
  "cells": [
    {
      "cell_type": "markdown",
      "metadata": {
        "id": "view-in-github",
        "colab_type": "text"
      },
      "source": [
        "<a href=\"https://colab.research.google.com/github/MohammedHamood/20NewsGroup/blob/main/deep_learning_for_time_series_forecasting.ipynb\" target=\"_parent\"><img src=\"https://colab.research.google.com/assets/colab-badge.svg\" alt=\"Open In Colab\"/></a>"
      ]
    },
    {
      "cell_type": "code",
      "metadata": {
        "colab": {
          "base_uri": "https://localhost:8080/"
        },
        "id": "GCqyNDALmBfx",
        "outputId": "98e3daf6-6e9e-430e-b4f7-b6570f421a2a"
      },
      "source": [
        "pip install chart-studio"
      ],
      "execution_count": null,
      "outputs": [
        {
          "output_type": "stream",
          "text": [
            "Requirement already satisfied: chart-studio in /usr/local/lib/python3.7/dist-packages (1.1.0)\n",
            "Requirement already satisfied: six in /usr/local/lib/python3.7/dist-packages (from chart-studio) (1.15.0)\n",
            "Requirement already satisfied: retrying>=1.3.3 in /usr/local/lib/python3.7/dist-packages (from chart-studio) (1.3.3)\n",
            "Requirement already satisfied: plotly in /usr/local/lib/python3.7/dist-packages (from chart-studio) (4.4.1)\n",
            "Requirement already satisfied: requests in /usr/local/lib/python3.7/dist-packages (from chart-studio) (2.23.0)\n",
            "Requirement already satisfied: certifi>=2017.4.17 in /usr/local/lib/python3.7/dist-packages (from requests->chart-studio) (2021.5.30)\n",
            "Requirement already satisfied: urllib3!=1.25.0,!=1.25.1,<1.26,>=1.21.1 in /usr/local/lib/python3.7/dist-packages (from requests->chart-studio) (1.24.3)\n",
            "Requirement already satisfied: idna<3,>=2.5 in /usr/local/lib/python3.7/dist-packages (from requests->chart-studio) (2.10)\n",
            "Requirement already satisfied: chardet<4,>=3.0.2 in /usr/local/lib/python3.7/dist-packages (from requests->chart-studio) (3.0.4)\n"
          ],
          "name": "stdout"
        }
      ]
    },
    {
      "cell_type": "code",
      "metadata": {
        "_uuid": "8f2839f25d086af736a60e9eeb907d3b93b6e0e5",
        "_cell_guid": "b1076dfc-b9ad-4769-8c92-a6c4dae69d19",
        "trusted": true,
        "_kg_hide-output": true,
        "colab": {
          "base_uri": "https://localhost:8080/",
          "height": 17
        },
        "id": "W7AWhKIiiaW4",
        "outputId": "92f2b167-a6cf-4565-efcb-de0c7340817a"
      },
      "source": [
        "\n",
        "\n",
        "import warnings\n",
        "import numpy as np\n",
        "import pandas as pd\n",
        "import matplotlib.pyplot as plt\n",
        "from keras import optimizers\n",
        "from keras.utils.vis_utils import plot_model\n",
        "#from keras.utils import plot_model\n",
        "from keras.models import Sequential, Model\n",
        "from keras.layers.convolutional import Conv1D, MaxPooling1D\n",
        "from keras.layers import Dense, LSTM, RepeatVector, TimeDistributed, Flatten\n",
        "from sklearn.metrics import mean_squared_error\n",
        "from sklearn.model_selection import train_test_split\n",
        "from chart_studio import plotly as py\n",
        "#import plotly.plotly as py \n",
        "import plotly.graph_objs as go\n",
        "from plotly.offline import init_notebook_mode, iplot\n",
        "\n",
        "%matplotlib inline\n",
        "warnings.filterwarnings(\"ignore\")\n",
        "init_notebook_mode(connected=True)\n",
        "\n",
        "# Set seeds to make the experiment more reproducible.\n",
        "#from tensorflow import set_random_seed\n",
        "#from numpy.random import seed\n",
        "import tensorflow as tf\n",
        "tf.random.set_seed(1)\n",
        "#set_random_seed(1)\n",
        "#seed(1)"
      ],
      "execution_count": null,
      "outputs": [
        {
          "output_type": "display_data",
          "data": {
            "text/html": [
              "        <script type=\"text/javascript\">\n",
              "        window.PlotlyConfig = {MathJaxConfig: 'local'};\n",
              "        if (window.MathJax) {MathJax.Hub.Config({SVG: {font: \"STIX-Web\"}});}\n",
              "        if (typeof require !== 'undefined') {\n",
              "        require.undef(\"plotly\");\n",
              "        requirejs.config({\n",
              "            paths: {\n",
              "                'plotly': ['https://cdn.plot.ly/plotly-latest.min']\n",
              "            }\n",
              "        });\n",
              "        require(['plotly'], function(Plotly) {\n",
              "            window._Plotly = Plotly;\n",
              "        });\n",
              "        }\n",
              "        </script>\n",
              "        "
            ]
          },
          "metadata": {}
        }
      ]
    },
    {
      "cell_type": "markdown",
      "metadata": {
        "_uuid": "dcc9f061fb8acd9447b60551e33f8f8d83fd9dad",
        "id": "9nJbYsQwiaW5"
      },
      "source": [
        "### Loading data"
      ]
    },
    {
      "cell_type": "code",
      "metadata": {
        "_cell_guid": "79c7e3d0-c299-4dcb-8224-4455121ee9b0",
        "_uuid": "d629ff2d2480ee46fbb7e2d37f6b5fab8052498a",
        "trusted": true,
        "id": "qDlL5Bz0iaW6"
      },
      "source": [
        "train_org= pd.read_csv('train1.csv', parse_dates=['date'])\n",
        "test_org = pd.read_csv('test.csv', parse_dates=['date'])"
      ],
      "execution_count": null,
      "outputs": []
    },
    {
      "cell_type": "markdown",
      "metadata": {
        "_uuid": "a60085dbb63091a2947a1f19bdbf2519b0370f1a",
        "id": "gzUnXwvciaW6"
      },
      "source": [
        "### Train set"
      ]
    },
    {
      "cell_type": "code",
      "metadata": {
        "trusted": true,
        "_uuid": "ae977a0cb52dbbb8701bdf9c4d4393737a98d103",
        "_kg_hide-input": true,
        "colab": {
          "base_uri": "https://localhost:8080/",
          "height": 295
        },
        "id": "Sv2o3UDoiaW6",
        "outputId": "055e69fa-4fbe-41ce-8d8b-30ec80eb30ad"
      },
      "source": [
        "train_org.describe()"
      ],
      "execution_count": null,
      "outputs": [
        {
          "output_type": "execute_result",
          "data": {
            "text/html": [
              "<div>\n",
              "<style scoped>\n",
              "    .dataframe tbody tr th:only-of-type {\n",
              "        vertical-align: middle;\n",
              "    }\n",
              "\n",
              "    .dataframe tbody tr th {\n",
              "        vertical-align: top;\n",
              "    }\n",
              "\n",
              "    .dataframe thead th {\n",
              "        text-align: right;\n",
              "    }\n",
              "</style>\n",
              "<table border=\"1\" class=\"dataframe\">\n",
              "  <thead>\n",
              "    <tr style=\"text-align: right;\">\n",
              "      <th></th>\n",
              "      <th>sales</th>\n",
              "    </tr>\n",
              "  </thead>\n",
              "  <tbody>\n",
              "    <tr>\n",
              "      <th>count</th>\n",
              "      <td>1300.000000</td>\n",
              "    </tr>\n",
              "    <tr>\n",
              "      <th>mean</th>\n",
              "      <td>654.482308</td>\n",
              "    </tr>\n",
              "    <tr>\n",
              "      <th>std</th>\n",
              "      <td>1162.043568</td>\n",
              "    </tr>\n",
              "    <tr>\n",
              "      <th>min</th>\n",
              "      <td>0.000000</td>\n",
              "    </tr>\n",
              "    <tr>\n",
              "      <th>25%</th>\n",
              "      <td>221.000000</td>\n",
              "    </tr>\n",
              "    <tr>\n",
              "      <th>50%</th>\n",
              "      <td>364.000000</td>\n",
              "    </tr>\n",
              "    <tr>\n",
              "      <th>75%</th>\n",
              "      <td>663.000000</td>\n",
              "    </tr>\n",
              "    <tr>\n",
              "      <th>max</th>\n",
              "      <td>14954.000000</td>\n",
              "    </tr>\n",
              "  </tbody>\n",
              "</table>\n",
              "</div>"
            ],
            "text/plain": [
              "              sales\n",
              "count   1300.000000\n",
              "mean     654.482308\n",
              "std     1162.043568\n",
              "min        0.000000\n",
              "25%      221.000000\n",
              "50%      364.000000\n",
              "75%      663.000000\n",
              "max    14954.000000"
            ]
          },
          "metadata": {},
          "execution_count": 4
        }
      ]
    },
    {
      "cell_type": "code",
      "metadata": {
        "trusted": true,
        "_uuid": "9bb6d25dceea154555cabb6c45a83b94fb8dccf1",
        "_kg_hide-input": true,
        "colab": {
          "base_uri": "https://localhost:8080/",
          "height": 203
        },
        "id": "3FWb3rCUiaW7",
        "outputId": "cd0bb385-0b58-48dc-8114-42c7c25feb00"
      },
      "source": [
        "train_org.head()"
      ],
      "execution_count": null,
      "outputs": [
        {
          "output_type": "execute_result",
          "data": {
            "text/html": [
              "<div>\n",
              "<style scoped>\n",
              "    .dataframe tbody tr th:only-of-type {\n",
              "        vertical-align: middle;\n",
              "    }\n",
              "\n",
              "    .dataframe tbody tr th {\n",
              "        vertical-align: top;\n",
              "    }\n",
              "\n",
              "    .dataframe thead th {\n",
              "        text-align: right;\n",
              "    }\n",
              "</style>\n",
              "<table border=\"1\" class=\"dataframe\">\n",
              "  <thead>\n",
              "    <tr style=\"text-align: right;\">\n",
              "      <th></th>\n",
              "      <th>channel</th>\n",
              "      <th>product_name</th>\n",
              "      <th>city</th>\n",
              "      <th>date</th>\n",
              "      <th>sales</th>\n",
              "    </tr>\n",
              "  </thead>\n",
              "  <tbody>\n",
              "    <tr>\n",
              "      <th>0</th>\n",
              "      <td>70 Van</td>\n",
              "      <td>Loakini 100g Chocolate 1X15</td>\n",
              "      <td>TAIF</td>\n",
              "      <td>2018-01-02</td>\n",
              "      <td>1105</td>\n",
              "    </tr>\n",
              "    <tr>\n",
              "      <th>1</th>\n",
              "      <td>10 Key</td>\n",
              "      <td>Loakini 100g Chocolate 1X15</td>\n",
              "      <td>Khamis</td>\n",
              "      <td>2018-01-03</td>\n",
              "      <td>0</td>\n",
              "    </tr>\n",
              "    <tr>\n",
              "      <th>2</th>\n",
              "      <td>70 Van</td>\n",
              "      <td>Loakini 100g Chocolate 1X15</td>\n",
              "      <td>RUH</td>\n",
              "      <td>2018-01-03</td>\n",
              "      <td>13761</td>\n",
              "    </tr>\n",
              "    <tr>\n",
              "      <th>3</th>\n",
              "      <td>70 Van</td>\n",
              "      <td>Loakini 100g Chocolate 1X15</td>\n",
              "      <td>Qassim</td>\n",
              "      <td>2018-01-03</td>\n",
              "      <td>7514</td>\n",
              "    </tr>\n",
              "    <tr>\n",
              "      <th>4</th>\n",
              "      <td>70 Van</td>\n",
              "      <td>Loakini 100g Chocolate 1X15</td>\n",
              "      <td>JED</td>\n",
              "      <td>2018-01-03</td>\n",
              "      <td>2858</td>\n",
              "    </tr>\n",
              "  </tbody>\n",
              "</table>\n",
              "</div>"
            ],
            "text/plain": [
              "   channel                    product_name    city       date  sales\n",
              "0   70 Van     Loakini 100g Chocolate 1X15    TAIF 2018-01-02   1105\n",
              "1  10 Key      Loakini 100g Chocolate 1X15  Khamis 2018-01-03      0\n",
              "2   70 Van     Loakini 100g Chocolate 1X15     RUH 2018-01-03  13761\n",
              "3   70 Van     Loakini 100g Chocolate 1X15  Qassim 2018-01-03   7514\n",
              "4   70 Van     Loakini 100g Chocolate 1X15     JED 2018-01-03   2858"
            ]
          },
          "metadata": {},
          "execution_count": 5
        }
      ]
    },
    {
      "cell_type": "code",
      "metadata": {
        "id": "fJomvb20MP2e"
      },
      "source": [],
      "execution_count": null,
      "outputs": []
    },
    {
      "cell_type": "markdown",
      "metadata": {
        "_uuid": "827c9c89b0e144fd4cf4bf2e048e50f98cbe3e26",
        "id": "4xVoR-1WiaW7"
      },
      "source": [
        "### Time period of the train dataset"
      ]
    },
    {
      "cell_type": "code",
      "metadata": {
        "trusted": true,
        "_uuid": "98d7855038ae46908b4dbdb9328ca500a6b5d552",
        "_kg_hide-input": true,
        "colab": {
          "base_uri": "https://localhost:8080/"
        },
        "id": "QNei27jBiaW7",
        "outputId": "f84d7ce5-07ee-442c-9d19-ab3ad9b98b74"
      },
      "source": [
        "print('Min date from train set: %s' % train_org['date'].min().date())\n",
        "print('Max date from train set: %s' % train_org['date'].max().date())"
      ],
      "execution_count": null,
      "outputs": [
        {
          "output_type": "stream",
          "text": [
            "Min date from train set: 2018-01-02\n",
            "Max date from train set: 2018-03-04\n"
          ],
          "name": "stdout"
        }
      ]
    },
    {
      "cell_type": "code",
      "metadata": {
        "id": "TkJy-672tjQN"
      },
      "source": [
        "x1=train_org.product_name.unique()\n",
        "z1=list(range(len(x1)))\n",
        "x2=train_org.channel.unique()\n",
        "z2=list(range(len(x2)))\n",
        "x3=train_org.city.unique()\n",
        "z3=list(range(len(x3)))"
      ],
      "execution_count": null,
      "outputs": []
    },
    {
      "cell_type": "code",
      "metadata": {
        "id": "3s21HACMucrm"
      },
      "source": [
        "test=test_org.copy()\n",
        "train=train_org.copy()"
      ],
      "execution_count": null,
      "outputs": []
    },
    {
      "cell_type": "code",
      "metadata": {
        "id": "YbbDi9ZBunUt"
      },
      "source": [
        "train['product_name'] = train['product_name'].replace(x1,z1)\n",
        "train['channel'] = train['channel'].replace(x2,z2)\n",
        "train['city'] = train['city'].replace(x3,z3)"
      ],
      "execution_count": null,
      "outputs": []
    },
    {
      "cell_type": "code",
      "metadata": {
        "id": "K2cU7goZu4vN"
      },
      "source": [
        "#test['product_name'] = test['product_name'].replace(x1,z1)\n",
        "#test['channel'] = test['channel'].replace(x2,z2)\n",
        "#test['city'] = test['city'].replace(x3,z3)"
      ],
      "execution_count": null,
      "outputs": []
    },
    {
      "cell_type": "markdown",
      "metadata": {
        "_uuid": "455b661280d3dff5b73f43df3fcd82e96e251663",
        "id": "d2SsJKLniaW8"
      },
      "source": [
        "### Basic EDA\n",
        "\n",
        "To explore the time series data first we need to aggregate the sales by day"
      ]
    },
    {
      "cell_type": "code",
      "metadata": {
        "trusted": true,
        "_uuid": "a865dab2049d6157f5c8b1bc90cc37c37b559854",
        "_kg_hide-input": true,
        "id": "FFcAp3DIiaW9"
      },
      "source": [
        "daily_sales = train.groupby('date', as_index=False)['sales'].sum()\n",
        "channel_daily_sales = train.groupby(['channel', 'date'], as_index=False)['sales'].sum()\n",
        "item_daily_sales = train.groupby(['product_name', 'date'], as_index=False)['sales'].sum()\n",
        "branch_daily_sales = train.groupby(['channel','product_name', 'date'], as_index=False)['sales'].sum()"
      ],
      "execution_count": null,
      "outputs": []
    },
    {
      "cell_type": "markdown",
      "metadata": {
        "_uuid": "153d5030e3381de2679042b1cd77a8889d616e47",
        "id": "cUKnAhH6iaW9"
      },
      "source": [
        "### Overall daily sales"
      ]
    },
    {
      "cell_type": "code",
      "metadata": {
        "colab": {
          "base_uri": "https://localhost:8080/",
          "height": 298
        },
        "id": "gVnltkNtvoU6",
        "outputId": "4a6bf6d8-3e53-448c-e3d2-b9544e4c5b78"
      },
      "source": [
        "plt.plot(daily_sales['date'], daily_sales['sales'])\n",
        "plt.legend(loc='center left', bbox_to_anchor=(1, 0.5))\n",
        "plt.title(\"Daily sales\")\n",
        "plt.show()"
      ],
      "execution_count": null,
      "outputs": [
        {
          "output_type": "stream",
          "text": [
            "No handles with labels found to put in legend.\n"
          ],
          "name": "stderr"
        },
        {
          "output_type": "display_data",
          "data": {
            "image/png": "[encoded data removed]",
            "text/plain": [
              "<Figure size 432x288 with 1 Axes>"
            ]
          },
          "metadata": {
            "needs_background": "light"
          }
        }
      ]
    },
    {
      "cell_type": "code",
      "metadata": {
        "colab": {
          "base_uri": "https://localhost:8080/",
          "height": 417
        },
        "id": "aCKHTV7rwtpT",
        "outputId": "78f62c44-c9bd-46bc-80db-ac82e8834ffb"
      },
      "source": [
        "channel_daily_sales"
      ],
      "execution_count": null,
      "outputs": [
        {
          "output_type": "execute_result",
          "data": {
            "text/html": [
              "<div>\n",
              "<style scoped>\n",
              "    .dataframe tbody tr th:only-of-type {\n",
              "        vertical-align: middle;\n",
              "    }\n",
              "\n",
              "    .dataframe tbody tr th {\n",
              "        vertical-align: top;\n",
              "    }\n",
              "\n",
              "    .dataframe thead th {\n",
              "        text-align: right;\n",
              "    }\n",
              "</style>\n",
              "<table border=\"1\" class=\"dataframe\">\n",
              "  <thead>\n",
              "    <tr style=\"text-align: right;\">\n",
              "      <th></th>\n",
              "      <th>channel</th>\n",
              "      <th>date</th>\n",
              "      <th>sales</th>\n",
              "    </tr>\n",
              "  </thead>\n",
              "  <tbody>\n",
              "    <tr>\n",
              "      <th>0</th>\n",
              "      <td>0</td>\n",
              "      <td>2018-01-02</td>\n",
              "      <td>1105</td>\n",
              "    </tr>\n",
              "    <tr>\n",
              "      <th>1</th>\n",
              "      <td>0</td>\n",
              "      <td>2018-01-03</td>\n",
              "      <td>60774</td>\n",
              "    </tr>\n",
              "    <tr>\n",
              "      <th>2</th>\n",
              "      <td>0</td>\n",
              "      <td>2018-01-04</td>\n",
              "      <td>663</td>\n",
              "    </tr>\n",
              "    <tr>\n",
              "      <th>3</th>\n",
              "      <td>0</td>\n",
              "      <td>2018-01-06</td>\n",
              "      <td>3430</td>\n",
              "    </tr>\n",
              "    <tr>\n",
              "      <th>4</th>\n",
              "      <td>0</td>\n",
              "      <td>2018-01-07</td>\n",
              "      <td>1768</td>\n",
              "    </tr>\n",
              "    <tr>\n",
              "      <th>...</th>\n",
              "      <td>...</td>\n",
              "      <td>...</td>\n",
              "      <td>...</td>\n",
              "    </tr>\n",
              "    <tr>\n",
              "      <th>227</th>\n",
              "      <td>5</td>\n",
              "      <td>2018-02-25</td>\n",
              "      <td>6055</td>\n",
              "    </tr>\n",
              "    <tr>\n",
              "      <th>228</th>\n",
              "      <td>5</td>\n",
              "      <td>2018-02-26</td>\n",
              "      <td>5982</td>\n",
              "    </tr>\n",
              "    <tr>\n",
              "      <th>229</th>\n",
              "      <td>5</td>\n",
              "      <td>2018-02-27</td>\n",
              "      <td>3433</td>\n",
              "    </tr>\n",
              "    <tr>\n",
              "      <th>230</th>\n",
              "      <td>5</td>\n",
              "      <td>2018-02-28</td>\n",
              "      <td>5982</td>\n",
              "    </tr>\n",
              "    <tr>\n",
              "      <th>231</th>\n",
              "      <td>5</td>\n",
              "      <td>2018-03-04</td>\n",
              "      <td>8033</td>\n",
              "    </tr>\n",
              "  </tbody>\n",
              "</table>\n",
              "<p>232 rows × 3 columns</p>\n",
              "</div>"
            ],
            "text/plain": [
              "     channel       date  sales\n",
              "0          0 2018-01-02   1105\n",
              "1          0 2018-01-03  60774\n",
              "2          0 2018-01-04    663\n",
              "3          0 2018-01-06   3430\n",
              "4          0 2018-01-07   1768\n",
              "..       ...        ...    ...\n",
              "227        5 2018-02-25   6055\n",
              "228        5 2018-02-26   5982\n",
              "229        5 2018-02-27   3433\n",
              "230        5 2018-02-28   5982\n",
              "231        5 2018-03-04   8033\n",
              "\n",
              "[232 rows x 3 columns]"
            ]
          },
          "metadata": {},
          "execution_count": 13
        }
      ]
    },
    {
      "cell_type": "markdown",
      "metadata": {
        "_uuid": "387e71579b0a4b5aca85a465c8e1b1a3a3289915",
        "id": "4_loHZ76iaW-"
      },
      "source": [
        " Daily sales by store"
      ]
    },
    {
      "cell_type": "code",
      "metadata": {
        "_kg_hide-input": true,
        "trusted": true,
        "_uuid": "0e8715f5557eac3cf3bd92eedec484c76ded1f61",
        "colab": {
          "base_uri": "https://localhost:8080/",
          "height": 281
        },
        "id": "kOE_F74HiaW-",
        "outputId": "6e6fbf70-7ce6-4ecc-a323-29216722a847"
      },
      "source": [
        "for channel in channel_daily_sales['channel'].unique():\n",
        "  current_channel_daily_sales = channel_daily_sales[(channel_daily_sales['channel'] == channel)]\n",
        "  plt.plot(current_channel_daily_sales['date'], current_channel_daily_sales['sales'],label =  channel)\n",
        "  plt.legend(loc='center left', bbox_to_anchor=(1, 0.5))\n",
        "plt.title(\"Daily sales\")\n",
        "plt.show()\n",
        "\n",
        "\n"
      ],
      "execution_count": null,
      "outputs": [
        {
          "output_type": "display_data",
          "data": {
            "image/png": "[encoded data removed]",
            "text/plain": [
              "<Figure size 432x288 with 1 Axes>"
            ]
          },
          "metadata": {
            "needs_background": "light"
          }
        }
      ]
    },
    {
      "cell_type": "markdown",
      "metadata": {
        "_uuid": "15c99b3e7c8fdc1076ff4359697107c15d0da41a",
        "id": "skz7RTsaiaW-"
      },
      "source": [
        "### Daily sales by item"
      ]
    },
    {
      "cell_type": "code",
      "metadata": {
        "_kg_hide-input": true,
        "trusted": true,
        "_uuid": "9036b41d4368d8ead697adbcafb50be91ca80c5c",
        "colab": {
          "base_uri": "https://localhost:8080/",
          "height": 281
        },
        "id": "0uvdm5-giaW-",
        "outputId": "e7a78bc8-3cfd-45b3-a244-a0b8f3877b40"
      },
      "source": [
        "\n",
        "for item in item_daily_sales['product_name'].unique():\n",
        "  current_item_daily_sales = item_daily_sales[(item_daily_sales['product_name'] == item)]\n",
        "  plt.plot(current_item_daily_sales['date'], current_item_daily_sales['sales'],label =  item)\n",
        "  plt.legend(loc='center left', bbox_to_anchor=(1, 0.5))\n",
        "plt.title(\"Daily sales\")\n",
        "plt.show()"
      ],
      "execution_count": null,
      "outputs": [
        {
          "output_type": "display_data",
          "data": {
            "image/png": "[encoded data removed]",
            "text/plain": [
              "<Figure size 432x288 with 1 Axes>"
            ]
          },
          "metadata": {
            "needs_background": "light"
          }
        }
      ]
    },
    {
      "cell_type": "code",
      "metadata": {
        "id": "QIozAJmZ59fc"
      },
      "source": [
        "test1=test_org.copy()\n",
        "train1=train_org.copy()"
      ],
      "execution_count": null,
      "outputs": []
    },
    {
      "cell_type": "code",
      "metadata": {
        "id": "yKeC7Lx84X5S"
      },
      "source": [
        "train1['store'] = train1['channel'].str.cat(train1['city'],sep=\"_\")"
      ],
      "execution_count": null,
      "outputs": []
    },
    {
      "cell_type": "code",
      "metadata": {
        "id": "OiPpy0CY64KW"
      },
      "source": [
        "test1['store'] = test1['channel'].str.cat(test1['city'],sep=\"_\")"
      ],
      "execution_count": null,
      "outputs": []
    },
    {
      "cell_type": "code",
      "metadata": {
        "id": "Id5KUgbb60Ln"
      },
      "source": [
        "x4=train1.store.unique()\n",
        "z4=list(range(len(x4)))\n",
        "x5=train1.product_name.unique()\n",
        "z5=list(range(len(x5)))"
      ],
      "execution_count": null,
      "outputs": []
    },
    {
      "cell_type": "code",
      "metadata": {
        "id": "Z54mrA26602e"
      },
      "source": [
        "train1['store'] = train1['store'].replace(x4,z4)\n",
        "train1['item'] = train1['product_name'].replace(x5,z5)\n",
        "test1['store'] = test1['store'].replace(x4,z4)\n",
        "test1['item'] = test1['product_name'].replace(x5,z5)"
      ],
      "execution_count": null,
      "outputs": []
    },
    {
      "cell_type": "code",
      "metadata": {
        "colab": {
          "base_uri": "https://localhost:8080/",
          "height": 203
        },
        "id": "YcyifhCn7U5a",
        "outputId": "366c7dd5-de55-4763-becb-c7ed90a442fd"
      },
      "source": [
        "train1.head()"
      ],
      "execution_count": null,
      "outputs": [
        {
          "output_type": "execute_result",
          "data": {
            "text/html": [
              "<div>\n",
              "<style scoped>\n",
              "    .dataframe tbody tr th:only-of-type {\n",
              "        vertical-align: middle;\n",
              "    }\n",
              "\n",
              "    .dataframe tbody tr th {\n",
              "        vertical-align: top;\n",
              "    }\n",
              "\n",
              "    .dataframe thead th {\n",
              "        text-align: right;\n",
              "    }\n",
              "</style>\n",
              "<table border=\"1\" class=\"dataframe\">\n",
              "  <thead>\n",
              "    <tr style=\"text-align: right;\">\n",
              "      <th></th>\n",
              "      <th>channel</th>\n",
              "      <th>product_name</th>\n",
              "      <th>city</th>\n",
              "      <th>date</th>\n",
              "      <th>sales</th>\n",
              "      <th>store</th>\n",
              "      <th>item</th>\n",
              "    </tr>\n",
              "  </thead>\n",
              "  <tbody>\n",
              "    <tr>\n",
              "      <th>0</th>\n",
              "      <td>70 Van</td>\n",
              "      <td>Loakini 100g Chocolate 1X15</td>\n",
              "      <td>TAIF</td>\n",
              "      <td>2018-01-02</td>\n",
              "      <td>1105</td>\n",
              "      <td>0</td>\n",
              "      <td>0</td>\n",
              "    </tr>\n",
              "    <tr>\n",
              "      <th>1</th>\n",
              "      <td>10 Key</td>\n",
              "      <td>Loakini 100g Chocolate 1X15</td>\n",
              "      <td>Khamis</td>\n",
              "      <td>2018-01-03</td>\n",
              "      <td>0</td>\n",
              "      <td>1</td>\n",
              "      <td>0</td>\n",
              "    </tr>\n",
              "    <tr>\n",
              "      <th>2</th>\n",
              "      <td>70 Van</td>\n",
              "      <td>Loakini 100g Chocolate 1X15</td>\n",
              "      <td>RUH</td>\n",
              "      <td>2018-01-03</td>\n",
              "      <td>13761</td>\n",
              "      <td>2</td>\n",
              "      <td>0</td>\n",
              "    </tr>\n",
              "    <tr>\n",
              "      <th>3</th>\n",
              "      <td>70 Van</td>\n",
              "      <td>Loakini 100g Chocolate 1X15</td>\n",
              "      <td>Qassim</td>\n",
              "      <td>2018-01-03</td>\n",
              "      <td>7514</td>\n",
              "      <td>3</td>\n",
              "      <td>0</td>\n",
              "    </tr>\n",
              "    <tr>\n",
              "      <th>4</th>\n",
              "      <td>70 Van</td>\n",
              "      <td>Loakini 100g Chocolate 1X15</td>\n",
              "      <td>JED</td>\n",
              "      <td>2018-01-03</td>\n",
              "      <td>2858</td>\n",
              "      <td>4</td>\n",
              "      <td>0</td>\n",
              "    </tr>\n",
              "  </tbody>\n",
              "</table>\n",
              "</div>"
            ],
            "text/plain": [
              "   channel                    product_name    city  ...  sales  store  item\n",
              "0   70 Van     Loakini 100g Chocolate 1X15    TAIF  ...   1105      0     0\n",
              "1  10 Key      Loakini 100g Chocolate 1X15  Khamis  ...      0      1     0\n",
              "2   70 Van     Loakini 100g Chocolate 1X15     RUH  ...  13761      2     0\n",
              "3   70 Van     Loakini 100g Chocolate 1X15  Qassim  ...   7514      3     0\n",
              "4   70 Van     Loakini 100g Chocolate 1X15     JED  ...   2858      4     0\n",
              "\n",
              "[5 rows x 7 columns]"
            ]
          },
          "metadata": {},
          "execution_count": 21
        }
      ]
    },
    {
      "cell_type": "code",
      "metadata": {
        "colab": {
          "base_uri": "https://localhost:8080/",
          "height": 203
        },
        "id": "yuw1gMIQ7YRo",
        "outputId": "105ce48b-9378-48d5-c56b-3ddef561af05"
      },
      "source": [
        "test1.head()"
      ],
      "execution_count": null,
      "outputs": [
        {
          "output_type": "execute_result",
          "data": {
            "text/html": [
              "<div>\n",
              "<style scoped>\n",
              "    .dataframe tbody tr th:only-of-type {\n",
              "        vertical-align: middle;\n",
              "    }\n",
              "\n",
              "    .dataframe tbody tr th {\n",
              "        vertical-align: top;\n",
              "    }\n",
              "\n",
              "    .dataframe thead th {\n",
              "        text-align: right;\n",
              "    }\n",
              "</style>\n",
              "<table border=\"1\" class=\"dataframe\">\n",
              "  <thead>\n",
              "    <tr style=\"text-align: right;\">\n",
              "      <th></th>\n",
              "      <th>channel</th>\n",
              "      <th>product_name</th>\n",
              "      <th>city</th>\n",
              "      <th>date</th>\n",
              "      <th>sales</th>\n",
              "      <th>store</th>\n",
              "      <th>item</th>\n",
              "    </tr>\n",
              "  </thead>\n",
              "  <tbody>\n",
              "    <tr>\n",
              "      <th>0</th>\n",
              "      <td>10 Key</td>\n",
              "      <td>Loakini 100g Chocolate 1X15</td>\n",
              "      <td>JED</td>\n",
              "      <td>2018-03-05</td>\n",
              "      <td>221</td>\n",
              "      <td>13</td>\n",
              "      <td>0</td>\n",
              "    </tr>\n",
              "    <tr>\n",
              "      <th>1</th>\n",
              "      <td>10 Key</td>\n",
              "      <td>Loakini 100g Chocolate 1X15</td>\n",
              "      <td>Damam</td>\n",
              "      <td>2018-03-05</td>\n",
              "      <td>0</td>\n",
              "      <td>15</td>\n",
              "      <td>0</td>\n",
              "    </tr>\n",
              "    <tr>\n",
              "      <th>2</th>\n",
              "      <td>10 Key</td>\n",
              "      <td>Loakini 100g Chocolate 1X15</td>\n",
              "      <td>Khamis</td>\n",
              "      <td>2018-03-05</td>\n",
              "      <td>221</td>\n",
              "      <td>1</td>\n",
              "      <td>0</td>\n",
              "    </tr>\n",
              "    <tr>\n",
              "      <th>3</th>\n",
              "      <td>10 Key</td>\n",
              "      <td>r Rose Original Choco 150g x12</td>\n",
              "      <td>Damam</td>\n",
              "      <td>2018-03-05</td>\n",
              "      <td>1172</td>\n",
              "      <td>15</td>\n",
              "      <td>1</td>\n",
              "    </tr>\n",
              "    <tr>\n",
              "      <th>4</th>\n",
              "      <td>10 Key</td>\n",
              "      <td>Rose White Chocolate 150g x12</td>\n",
              "      <td>RUH</td>\n",
              "      <td>2018-03-05</td>\n",
              "      <td>342</td>\n",
              "      <td>12</td>\n",
              "      <td>2</td>\n",
              "    </tr>\n",
              "  </tbody>\n",
              "</table>\n",
              "</div>"
            ],
            "text/plain": [
              "   channel                    product_name    city  ... sales  store item\n",
              "0  10 Key      Loakini 100g Chocolate 1X15     JED  ...   221     13    0\n",
              "1  10 Key      Loakini 100g Chocolate 1X15   Damam  ...     0     15    0\n",
              "2  10 Key      Loakini 100g Chocolate 1X15  Khamis  ...   221      1    0\n",
              "3  10 Key   r Rose Original Choco 150g x12   Damam  ...  1172     15    1\n",
              "4  10 Key    Rose White Chocolate 150g x12     RUH  ...   342     12    2\n",
              "\n",
              "[5 rows x 7 columns]"
            ]
          },
          "metadata": {},
          "execution_count": 22
        }
      ]
    },
    {
      "cell_type": "code",
      "metadata": {
        "id": "HmJdW1B27mOy"
      },
      "source": [
        "test1.drop('product_name',axis=1,inplace=True)\n",
        "test1.drop('channel',axis=1,inplace=True)\n",
        "test1.drop('city',axis=1,inplace=True)\n",
        "train1.drop('product_name',axis=1,inplace=True)\n",
        "train1.drop('channel',axis=1,inplace=True)\n",
        "train1.drop('city',axis=1,inplace=True)"
      ],
      "execution_count": null,
      "outputs": []
    },
    {
      "cell_type": "code",
      "metadata": {
        "colab": {
          "base_uri": "https://localhost:8080/",
          "height": 203
        },
        "id": "3IW9T3jU8cMb",
        "outputId": "558a7063-4706-4f80-8d9f-b8e78774a657"
      },
      "source": [
        "test1.head()"
      ],
      "execution_count": null,
      "outputs": [
        {
          "output_type": "execute_result",
          "data": {
            "text/html": [
              "<div>\n",
              "<style scoped>\n",
              "    .dataframe tbody tr th:only-of-type {\n",
              "        vertical-align: middle;\n",
              "    }\n",
              "\n",
              "    .dataframe tbody tr th {\n",
              "        vertical-align: top;\n",
              "    }\n",
              "\n",
              "    .dataframe thead th {\n",
              "        text-align: right;\n",
              "    }\n",
              "</style>\n",
              "<table border=\"1\" class=\"dataframe\">\n",
              "  <thead>\n",
              "    <tr style=\"text-align: right;\">\n",
              "      <th></th>\n",
              "      <th>date</th>\n",
              "      <th>sales</th>\n",
              "      <th>store</th>\n",
              "      <th>item</th>\n",
              "    </tr>\n",
              "  </thead>\n",
              "  <tbody>\n",
              "    <tr>\n",
              "      <th>0</th>\n",
              "      <td>2018-03-05</td>\n",
              "      <td>221</td>\n",
              "      <td>13</td>\n",
              "      <td>0</td>\n",
              "    </tr>\n",
              "    <tr>\n",
              "      <th>1</th>\n",
              "      <td>2018-03-05</td>\n",
              "      <td>0</td>\n",
              "      <td>15</td>\n",
              "      <td>0</td>\n",
              "    </tr>\n",
              "    <tr>\n",
              "      <th>2</th>\n",
              "      <td>2018-03-05</td>\n",
              "      <td>221</td>\n",
              "      <td>1</td>\n",
              "      <td>0</td>\n",
              "    </tr>\n",
              "    <tr>\n",
              "      <th>3</th>\n",
              "      <td>2018-03-05</td>\n",
              "      <td>1172</td>\n",
              "      <td>15</td>\n",
              "      <td>1</td>\n",
              "    </tr>\n",
              "    <tr>\n",
              "      <th>4</th>\n",
              "      <td>2018-03-05</td>\n",
              "      <td>342</td>\n",
              "      <td>12</td>\n",
              "      <td>2</td>\n",
              "    </tr>\n",
              "  </tbody>\n",
              "</table>\n",
              "</div>"
            ],
            "text/plain": [
              "        date  sales store  item\n",
              "0 2018-03-05    221    13     0\n",
              "1 2018-03-05      0    15     0\n",
              "2 2018-03-05    221     1     0\n",
              "3 2018-03-05   1172    15     1\n",
              "4 2018-03-05    342    12     2"
            ]
          },
          "metadata": {},
          "execution_count": 24
        }
      ]
    },
    {
      "cell_type": "code",
      "metadata": {
        "colab": {
          "base_uri": "https://localhost:8080/",
          "height": 203
        },
        "id": "cS0FZDAG8g33",
        "outputId": "21b8292f-4471-47fb-88a2-5f55e72ba9a9"
      },
      "source": [
        "train1.head()"
      ],
      "execution_count": null,
      "outputs": [
        {
          "output_type": "execute_result",
          "data": {
            "text/html": [
              "<div>\n",
              "<style scoped>\n",
              "    .dataframe tbody tr th:only-of-type {\n",
              "        vertical-align: middle;\n",
              "    }\n",
              "\n",
              "    .dataframe tbody tr th {\n",
              "        vertical-align: top;\n",
              "    }\n",
              "\n",
              "    .dataframe thead th {\n",
              "        text-align: right;\n",
              "    }\n",
              "</style>\n",
              "<table border=\"1\" class=\"dataframe\">\n",
              "  <thead>\n",
              "    <tr style=\"text-align: right;\">\n",
              "      <th></th>\n",
              "      <th>date</th>\n",
              "      <th>sales</th>\n",
              "      <th>store</th>\n",
              "      <th>item</th>\n",
              "    </tr>\n",
              "  </thead>\n",
              "  <tbody>\n",
              "    <tr>\n",
              "      <th>0</th>\n",
              "      <td>2018-01-02</td>\n",
              "      <td>1105</td>\n",
              "      <td>0</td>\n",
              "      <td>0</td>\n",
              "    </tr>\n",
              "    <tr>\n",
              "      <th>1</th>\n",
              "      <td>2018-01-03</td>\n",
              "      <td>0</td>\n",
              "      <td>1</td>\n",
              "      <td>0</td>\n",
              "    </tr>\n",
              "    <tr>\n",
              "      <th>2</th>\n",
              "      <td>2018-01-03</td>\n",
              "      <td>13761</td>\n",
              "      <td>2</td>\n",
              "      <td>0</td>\n",
              "    </tr>\n",
              "    <tr>\n",
              "      <th>3</th>\n",
              "      <td>2018-01-03</td>\n",
              "      <td>7514</td>\n",
              "      <td>3</td>\n",
              "      <td>0</td>\n",
              "    </tr>\n",
              "    <tr>\n",
              "      <th>4</th>\n",
              "      <td>2018-01-03</td>\n",
              "      <td>2858</td>\n",
              "      <td>4</td>\n",
              "      <td>0</td>\n",
              "    </tr>\n",
              "  </tbody>\n",
              "</table>\n",
              "</div>"
            ],
            "text/plain": [
              "        date  sales  store  item\n",
              "0 2018-01-02   1105      0     0\n",
              "1 2018-01-03      0      1     0\n",
              "2 2018-01-03  13761      2     0\n",
              "3 2018-01-03   7514      3     0\n",
              "4 2018-01-03   2858      4     0"
            ]
          },
          "metadata": {},
          "execution_count": 25
        }
      ]
    },
    {
      "cell_type": "code",
      "metadata": {
        "id": "7brtOvGf9L2u"
      },
      "source": [
        "train1 = train1.groupby([ pd.Grouper(key='date', freq='W'),'store','item'])['sales'].sum().reset_index().sort_values('date')"
      ],
      "execution_count": null,
      "outputs": []
    },
    {
      "cell_type": "code",
      "metadata": {
        "id": "UvinbLcC_gKg"
      },
      "source": [
        "#train1 = train1.groupby([ pd.Grouper(key='date', freq='D'),'store','item'])['sales'].sum().reset_index().sort_values('date')"
      ],
      "execution_count": null,
      "outputs": []
    },
    {
      "cell_type": "code",
      "metadata": {
        "colab": {
          "base_uri": "https://localhost:8080/",
          "height": 417
        },
        "id": "kP2FYNkO9n3M",
        "outputId": "a1b97097-5558-46cf-a056-77ee41e31c6a"
      },
      "source": [
        "train1.head(1000)"
      ],
      "execution_count": null,
      "outputs": [
        {
          "output_type": "execute_result",
          "data": {
            "text/html": [
              "<div>\n",
              "<style scoped>\n",
              "    .dataframe tbody tr th:only-of-type {\n",
              "        vertical-align: middle;\n",
              "    }\n",
              "\n",
              "    .dataframe tbody tr th {\n",
              "        vertical-align: top;\n",
              "    }\n",
              "\n",
              "    .dataframe thead th {\n",
              "        text-align: right;\n",
              "    }\n",
              "</style>\n",
              "<table border=\"1\" class=\"dataframe\">\n",
              "  <thead>\n",
              "    <tr style=\"text-align: right;\">\n",
              "      <th></th>\n",
              "      <th>date</th>\n",
              "      <th>store</th>\n",
              "      <th>item</th>\n",
              "      <th>sales</th>\n",
              "    </tr>\n",
              "  </thead>\n",
              "  <tbody>\n",
              "    <tr>\n",
              "      <th>0</th>\n",
              "      <td>2018-01-07</td>\n",
              "      <td>0</td>\n",
              "      <td>0</td>\n",
              "      <td>1326</td>\n",
              "    </tr>\n",
              "    <tr>\n",
              "      <th>51</th>\n",
              "      <td>2018-01-07</td>\n",
              "      <td>14</td>\n",
              "      <td>0</td>\n",
              "      <td>221</td>\n",
              "    </tr>\n",
              "    <tr>\n",
              "      <th>50</th>\n",
              "      <td>2018-01-07</td>\n",
              "      <td>13</td>\n",
              "      <td>3</td>\n",
              "      <td>1465</td>\n",
              "    </tr>\n",
              "    <tr>\n",
              "      <th>49</th>\n",
              "      <td>2018-01-07</td>\n",
              "      <td>13</td>\n",
              "      <td>2</td>\n",
              "      <td>1465</td>\n",
              "    </tr>\n",
              "    <tr>\n",
              "      <th>48</th>\n",
              "      <td>2018-01-07</td>\n",
              "      <td>13</td>\n",
              "      <td>1</td>\n",
              "      <td>2344</td>\n",
              "    </tr>\n",
              "    <tr>\n",
              "      <th>...</th>\n",
              "      <td>...</td>\n",
              "      <td>...</td>\n",
              "      <td>...</td>\n",
              "      <td>...</td>\n",
              "    </tr>\n",
              "    <tr>\n",
              "      <th>695</th>\n",
              "      <td>2018-03-04</td>\n",
              "      <td>13</td>\n",
              "      <td>4</td>\n",
              "      <td>294</td>\n",
              "    </tr>\n",
              "    <tr>\n",
              "      <th>694</th>\n",
              "      <td>2018-03-04</td>\n",
              "      <td>13</td>\n",
              "      <td>1</td>\n",
              "      <td>98</td>\n",
              "    </tr>\n",
              "    <tr>\n",
              "      <th>693</th>\n",
              "      <td>2018-03-04</td>\n",
              "      <td>13</td>\n",
              "      <td>0</td>\n",
              "      <td>1282</td>\n",
              "    </tr>\n",
              "    <tr>\n",
              "      <th>702</th>\n",
              "      <td>2018-03-04</td>\n",
              "      <td>15</td>\n",
              "      <td>1</td>\n",
              "      <td>2051</td>\n",
              "    </tr>\n",
              "    <tr>\n",
              "      <th>761</th>\n",
              "      <td>2018-03-04</td>\n",
              "      <td>54</td>\n",
              "      <td>0</td>\n",
              "      <td>442</td>\n",
              "    </tr>\n",
              "  </tbody>\n",
              "</table>\n",
              "<p>762 rows × 4 columns</p>\n",
              "</div>"
            ],
            "text/plain": [
              "          date  store  item  sales\n",
              "0   2018-01-07      0     0   1326\n",
              "51  2018-01-07     14     0    221\n",
              "50  2018-01-07     13     3   1465\n",
              "49  2018-01-07     13     2   1465\n",
              "48  2018-01-07     13     1   2344\n",
              "..         ...    ...   ...    ...\n",
              "695 2018-03-04     13     4    294\n",
              "694 2018-03-04     13     1     98\n",
              "693 2018-03-04     13     0   1282\n",
              "702 2018-03-04     15     1   2051\n",
              "761 2018-03-04     54     0    442\n",
              "\n",
              "[762 rows x 4 columns]"
            ]
          },
          "metadata": {},
          "execution_count": 28
        }
      ]
    },
    {
      "cell_type": "code",
      "metadata": {
        "id": "3xjnYzcY9yuV"
      },
      "source": [
        "test1 = test1.groupby([ pd.Grouper(key='date', freq='W'),'store','item'])['sales'].sum().reset_index().sort_values('date')"
      ],
      "execution_count": null,
      "outputs": []
    },
    {
      "cell_type": "code",
      "metadata": {
        "colab": {
          "base_uri": "https://localhost:8080/",
          "height": 417
        },
        "id": "UjheygbC94CO",
        "outputId": "be76825b-5318-47dc-eaeb-b5cf158002f7"
      },
      "source": [
        "test1.head(1000)"
      ],
      "execution_count": null,
      "outputs": [
        {
          "output_type": "execute_result",
          "data": {
            "text/html": [
              "<div>\n",
              "<style scoped>\n",
              "    .dataframe tbody tr th:only-of-type {\n",
              "        vertical-align: middle;\n",
              "    }\n",
              "\n",
              "    .dataframe tbody tr th {\n",
              "        vertical-align: top;\n",
              "    }\n",
              "\n",
              "    .dataframe thead th {\n",
              "        text-align: right;\n",
              "    }\n",
              "</style>\n",
              "<table border=\"1\" class=\"dataframe\">\n",
              "  <thead>\n",
              "    <tr style=\"text-align: right;\">\n",
              "      <th></th>\n",
              "      <th>date</th>\n",
              "      <th>store</th>\n",
              "      <th>item</th>\n",
              "      <th>sales</th>\n",
              "    </tr>\n",
              "  </thead>\n",
              "  <tbody>\n",
              "    <tr>\n",
              "      <th>0</th>\n",
              "      <td>2018-03-11</td>\n",
              "      <td>0</td>\n",
              "      <td>0</td>\n",
              "      <td>1105</td>\n",
              "    </tr>\n",
              "    <tr>\n",
              "      <th>36</th>\n",
              "      <td>2018-03-11</td>\n",
              "      <td>17</td>\n",
              "      <td>3</td>\n",
              "      <td>586</td>\n",
              "    </tr>\n",
              "    <tr>\n",
              "      <th>37</th>\n",
              "      <td>2018-03-11</td>\n",
              "      <td>18</td>\n",
              "      <td>0</td>\n",
              "      <td>221</td>\n",
              "    </tr>\n",
              "    <tr>\n",
              "      <th>38</th>\n",
              "      <td>2018-03-11</td>\n",
              "      <td>18</td>\n",
              "      <td>2</td>\n",
              "      <td>586</td>\n",
              "    </tr>\n",
              "    <tr>\n",
              "      <th>39</th>\n",
              "      <td>2018-03-11</td>\n",
              "      <td>19</td>\n",
              "      <td>3</td>\n",
              "      <td>586</td>\n",
              "    </tr>\n",
              "    <tr>\n",
              "      <th>...</th>\n",
              "      <td>...</td>\n",
              "      <td>...</td>\n",
              "      <td>...</td>\n",
              "      <td>...</td>\n",
              "    </tr>\n",
              "    <tr>\n",
              "      <th>263</th>\n",
              "      <td>2018-04-01</td>\n",
              "      <td>15</td>\n",
              "      <td>2</td>\n",
              "      <td>879</td>\n",
              "    </tr>\n",
              "    <tr>\n",
              "      <th>262</th>\n",
              "      <td>2018-04-01</td>\n",
              "      <td>15</td>\n",
              "      <td>1</td>\n",
              "      <td>1514</td>\n",
              "    </tr>\n",
              "    <tr>\n",
              "      <th>260</th>\n",
              "      <td>2018-04-01</td>\n",
              "      <td>14</td>\n",
              "      <td>3</td>\n",
              "      <td>586</td>\n",
              "    </tr>\n",
              "    <tr>\n",
              "      <th>267</th>\n",
              "      <td>2018-04-01</td>\n",
              "      <td>17</td>\n",
              "      <td>1</td>\n",
              "      <td>586</td>\n",
              "    </tr>\n",
              "    <tr>\n",
              "      <th>311</th>\n",
              "      <td>2018-04-01</td>\n",
              "      <td>60 New_Khamis</td>\n",
              "      <td>0</td>\n",
              "      <td>442</td>\n",
              "    </tr>\n",
              "  </tbody>\n",
              "</table>\n",
              "<p>312 rows × 4 columns</p>\n",
              "</div>"
            ],
            "text/plain": [
              "          date          store  item  sales\n",
              "0   2018-03-11              0     0   1105\n",
              "36  2018-03-11             17     3    586\n",
              "37  2018-03-11             18     0    221\n",
              "38  2018-03-11             18     2    586\n",
              "39  2018-03-11             19     3    586\n",
              "..         ...            ...   ...    ...\n",
              "263 2018-04-01             15     2    879\n",
              "262 2018-04-01             15     1   1514\n",
              "260 2018-04-01             14     3    586\n",
              "267 2018-04-01             17     1    586\n",
              "311 2018-04-01  60 New_Khamis     0    442\n",
              "\n",
              "[312 rows x 4 columns]"
            ]
          },
          "metadata": {},
          "execution_count": 30
        }
      ]
    },
    {
      "cell_type": "code",
      "metadata": {
        "colab": {
          "base_uri": "https://localhost:8080/"
        },
        "id": "autReYrZ-NZl",
        "outputId": "a8e772e4-1837-40b9-8bfa-29d537cd6b10"
      },
      "source": [
        "x6=test1.store.unique()\n",
        "x6"
      ],
      "execution_count": null,
      "outputs": [
        {
          "output_type": "execute_result",
          "data": {
            "text/plain": [
              "array([0, 17, 18, 19, 20, 22, 26, 29, 30, 34, 37, 43, 44, 46, 54, 16, 1,\n",
              "       2, 3, 6, 7, 8, 9, 10, 12, 15, 13, 27, 21, 24, 23, 25, 28, 52, 50,\n",
              "       48, 42, 38, 36, 32, 35, 11, 14, 56, 41, 5, '50 Conv_Khamis', 39,\n",
              "       '20 Whole_TAIF', 55, 45, 51, '60 New_Khamis'], dtype=object)"
            ]
          },
          "metadata": {},
          "execution_count": 31
        }
      ]
    },
    {
      "cell_type": "code",
      "metadata": {
        "id": "AWsUGQRt-Y3n"
      },
      "source": [
        "#test1.drop('Whole_TAIF', axis=0)"
      ],
      "execution_count": null,
      "outputs": []
    },
    {
      "cell_type": "markdown",
      "metadata": {
        "_uuid": "f30936a69f127157190ecfedcacfd3e50bbb1616",
        "id": "3IXHsasniaXA"
      },
      "source": [
        "### Rearrange dataset so we can apply shift methods"
      ]
    },
    {
      "cell_type": "code",
      "metadata": {
        "trusted": true,
        "_uuid": "2f9ffc8f0946c5caf4d99dc878f83f9e29ee73dd",
        "colab": {
          "base_uri": "https://localhost:8080/",
          "height": 417
        },
        "id": "q9reU0_7iaXA",
        "outputId": "16ec9575-4fa4-41a7-a2a1-87e6508fef36"
      },
      "source": [
        "train_gp = train1.sort_values('date').groupby(['store', 'item', 'date'], as_index=False)\n",
        "train_gp = train_gp.agg({'sales':['mean']})\n",
        "train_gp.columns = ['store', 'item', 'date', 'sales']\n",
        "train_gp.head(100)"
      ],
      "execution_count": null,
      "outputs": [
        {
          "output_type": "execute_result",
          "data": {
            "text/html": [
              "<div>\n",
              "<style scoped>\n",
              "    .dataframe tbody tr th:only-of-type {\n",
              "        vertical-align: middle;\n",
              "    }\n",
              "\n",
              "    .dataframe tbody tr th {\n",
              "        vertical-align: top;\n",
              "    }\n",
              "\n",
              "    .dataframe thead th {\n",
              "        text-align: right;\n",
              "    }\n",
              "</style>\n",
              "<table border=\"1\" class=\"dataframe\">\n",
              "  <thead>\n",
              "    <tr style=\"text-align: right;\">\n",
              "      <th></th>\n",
              "      <th>store</th>\n",
              "      <th>item</th>\n",
              "      <th>date</th>\n",
              "      <th>sales</th>\n",
              "    </tr>\n",
              "  </thead>\n",
              "  <tbody>\n",
              "    <tr>\n",
              "      <th>0</th>\n",
              "      <td>0</td>\n",
              "      <td>0</td>\n",
              "      <td>2018-01-07</td>\n",
              "      <td>1326</td>\n",
              "    </tr>\n",
              "    <tr>\n",
              "      <th>1</th>\n",
              "      <td>0</td>\n",
              "      <td>0</td>\n",
              "      <td>2018-01-14</td>\n",
              "      <td>442</td>\n",
              "    </tr>\n",
              "    <tr>\n",
              "      <th>2</th>\n",
              "      <td>0</td>\n",
              "      <td>0</td>\n",
              "      <td>2018-01-21</td>\n",
              "      <td>663</td>\n",
              "    </tr>\n",
              "    <tr>\n",
              "      <th>3</th>\n",
              "      <td>0</td>\n",
              "      <td>0</td>\n",
              "      <td>2018-02-11</td>\n",
              "      <td>2210</td>\n",
              "    </tr>\n",
              "    <tr>\n",
              "      <th>4</th>\n",
              "      <td>0</td>\n",
              "      <td>0</td>\n",
              "      <td>2018-03-04</td>\n",
              "      <td>442</td>\n",
              "    </tr>\n",
              "    <tr>\n",
              "      <th>...</th>\n",
              "      <td>...</td>\n",
              "      <td>...</td>\n",
              "      <td>...</td>\n",
              "      <td>...</td>\n",
              "    </tr>\n",
              "    <tr>\n",
              "      <th>95</th>\n",
              "      <td>5</td>\n",
              "      <td>0</td>\n",
              "      <td>2018-02-25</td>\n",
              "      <td>884</td>\n",
              "    </tr>\n",
              "    <tr>\n",
              "      <th>96</th>\n",
              "      <td>5</td>\n",
              "      <td>4</td>\n",
              "      <td>2018-01-07</td>\n",
              "      <td>1323</td>\n",
              "    </tr>\n",
              "    <tr>\n",
              "      <th>97</th>\n",
              "      <td>5</td>\n",
              "      <td>5</td>\n",
              "      <td>2018-01-07</td>\n",
              "      <td>1029</td>\n",
              "    </tr>\n",
              "    <tr>\n",
              "      <th>98</th>\n",
              "      <td>5</td>\n",
              "      <td>6</td>\n",
              "      <td>2018-01-07</td>\n",
              "      <td>1323</td>\n",
              "    </tr>\n",
              "    <tr>\n",
              "      <th>99</th>\n",
              "      <td>5</td>\n",
              "      <td>7</td>\n",
              "      <td>2018-01-07</td>\n",
              "      <td>1122</td>\n",
              "    </tr>\n",
              "  </tbody>\n",
              "</table>\n",
              "<p>100 rows × 4 columns</p>\n",
              "</div>"
            ],
            "text/plain": [
              "    store  item       date  sales\n",
              "0       0     0 2018-01-07   1326\n",
              "1       0     0 2018-01-14    442\n",
              "2       0     0 2018-01-21    663\n",
              "3       0     0 2018-02-11   2210\n",
              "4       0     0 2018-03-04    442\n",
              "..    ...   ...        ...    ...\n",
              "95      5     0 2018-02-25    884\n",
              "96      5     4 2018-01-07   1323\n",
              "97      5     5 2018-01-07   1029\n",
              "98      5     6 2018-01-07   1323\n",
              "99      5     7 2018-01-07   1122\n",
              "\n",
              "[100 rows x 4 columns]"
            ]
          },
          "metadata": {},
          "execution_count": 33
        }
      ]
    },
    {
      "cell_type": "code",
      "metadata": {
        "id": "GN_oaAy8HC5T"
      },
      "source": [
        "#=(train_gp['sales']-train_gp['sales'].min())/(train_gp['sales'].max()-train_gp['sales'].min())"
      ],
      "execution_count": null,
      "outputs": []
    },
    {
      "cell_type": "markdown",
      "metadata": {
        "_uuid": "72c037d182b0cd9b8d228d0042ace64c88e6cbd9",
        "id": "n4Dd3uhdiaXB"
      },
      "source": [
        "### Transform the data into a time series problem"
      ]
    },
    {
      "cell_type": "code",
      "metadata": {
        "trusted": true,
        "_uuid": "c9400d07223d75b50930e37194c2a682ca436bf2",
        "id": "nHN7RHPJiaXB"
      },
      "source": [
        "def series_to_supervised(data, window=1, lag=1, dropnan=True):\n",
        "    cols, names = list(), list()\n",
        "    # Input sequence (t-n, ... t-1)\n",
        "    for i in range(window, 0, -1):\n",
        "        cols.append(data.shift(i))\n",
        "        names += [('%s(t-%d)' % (col, i)) for col in data.columns]\n",
        "    # Current timestep (t=0)\n",
        "    cols.append(data)\n",
        "    names += [('%s(t)' % (col)) for col in data.columns]\n",
        "    # Target timestep (t=lag)\n",
        "    cols.append(data.shift(-lag))\n",
        "    names += [('%s(t+%d)' % (col, lag)) for col in data.columns]\n",
        "    # Put it all together\n",
        "    agg = pd.concat(cols, axis=1)\n",
        "    agg.columns = names\n",
        "    # Drop rows with NaN values\n",
        "    if dropnan:\n",
        "        agg.dropna(inplace=True)\n",
        "    return agg"
      ],
      "execution_count": null,
      "outputs": []
    },
    {
      "cell_type": "code",
      "metadata": {
        "trusted": true,
        "_uuid": "5cb604bd4fb5aa6a2fd966af6f7ed772a11ebf6e",
        "colab": {
          "base_uri": "https://localhost:8080/",
          "height": 454
        },
        "id": "8ZHRLAC6iaXB",
        "outputId": "fac98cc0-675c-4882-9fd0-ed7f21c7c39c"
      },
      "source": [
        "window = 4\n",
        "lag = 8\n",
        "series = series_to_supervised(train_gp.drop('date', axis=1), window=window, lag=lag)\n",
        "series.head(1000)"
      ],
      "execution_count": null,
      "outputs": [
        {
          "output_type": "execute_result",
          "data": {
            "text/html": [
              "<div>\n",
              "<style scoped>\n",
              "    .dataframe tbody tr th:only-of-type {\n",
              "        vertical-align: middle;\n",
              "    }\n",
              "\n",
              "    .dataframe tbody tr th {\n",
              "        vertical-align: top;\n",
              "    }\n",
              "\n",
              "    .dataframe thead th {\n",
              "        text-align: right;\n",
              "    }\n",
              "</style>\n",
              "<table border=\"1\" class=\"dataframe\">\n",
              "  <thead>\n",
              "    <tr style=\"text-align: right;\">\n",
              "      <th></th>\n",
              "      <th>store(t-4)</th>\n",
              "      <th>item(t-4)</th>\n",
              "      <th>sales(t-4)</th>\n",
              "      <th>store(t-3)</th>\n",
              "      <th>item(t-3)</th>\n",
              "      <th>sales(t-3)</th>\n",
              "      <th>store(t-2)</th>\n",
              "      <th>item(t-2)</th>\n",
              "      <th>sales(t-2)</th>\n",
              "      <th>store(t-1)</th>\n",
              "      <th>item(t-1)</th>\n",
              "      <th>sales(t-1)</th>\n",
              "      <th>store(t)</th>\n",
              "      <th>item(t)</th>\n",
              "      <th>sales(t)</th>\n",
              "      <th>store(t+8)</th>\n",
              "      <th>item(t+8)</th>\n",
              "      <th>sales(t+8)</th>\n",
              "    </tr>\n",
              "  </thead>\n",
              "  <tbody>\n",
              "    <tr>\n",
              "      <th>4</th>\n",
              "      <td>0.0</td>\n",
              "      <td>0.0</td>\n",
              "      <td>1326.0</td>\n",
              "      <td>0.0</td>\n",
              "      <td>0.0</td>\n",
              "      <td>442.0</td>\n",
              "      <td>0.0</td>\n",
              "      <td>0.0</td>\n",
              "      <td>663.0</td>\n",
              "      <td>0.0</td>\n",
              "      <td>0.0</td>\n",
              "      <td>2210.0</td>\n",
              "      <td>0</td>\n",
              "      <td>0</td>\n",
              "      <td>442</td>\n",
              "      <td>0.0</td>\n",
              "      <td>6.0</td>\n",
              "      <td>147.0</td>\n",
              "    </tr>\n",
              "    <tr>\n",
              "      <th>5</th>\n",
              "      <td>0.0</td>\n",
              "      <td>0.0</td>\n",
              "      <td>442.0</td>\n",
              "      <td>0.0</td>\n",
              "      <td>0.0</td>\n",
              "      <td>663.0</td>\n",
              "      <td>0.0</td>\n",
              "      <td>0.0</td>\n",
              "      <td>2210.0</td>\n",
              "      <td>0.0</td>\n",
              "      <td>0.0</td>\n",
              "      <td>442.0</td>\n",
              "      <td>0</td>\n",
              "      <td>1</td>\n",
              "      <td>293</td>\n",
              "      <td>0.0</td>\n",
              "      <td>7.0</td>\n",
              "      <td>561.0</td>\n",
              "    </tr>\n",
              "    <tr>\n",
              "      <th>6</th>\n",
              "      <td>0.0</td>\n",
              "      <td>0.0</td>\n",
              "      <td>663.0</td>\n",
              "      <td>0.0</td>\n",
              "      <td>0.0</td>\n",
              "      <td>2210.0</td>\n",
              "      <td>0.0</td>\n",
              "      <td>0.0</td>\n",
              "      <td>442.0</td>\n",
              "      <td>0.0</td>\n",
              "      <td>1.0</td>\n",
              "      <td>293.0</td>\n",
              "      <td>0</td>\n",
              "      <td>3</td>\n",
              "      <td>293</td>\n",
              "      <td>1.0</td>\n",
              "      <td>0.0</td>\n",
              "      <td>442.0</td>\n",
              "    </tr>\n",
              "    <tr>\n",
              "      <th>7</th>\n",
              "      <td>0.0</td>\n",
              "      <td>0.0</td>\n",
              "      <td>2210.0</td>\n",
              "      <td>0.0</td>\n",
              "      <td>0.0</td>\n",
              "      <td>442.0</td>\n",
              "      <td>0.0</td>\n",
              "      <td>1.0</td>\n",
              "      <td>293.0</td>\n",
              "      <td>0.0</td>\n",
              "      <td>3.0</td>\n",
              "      <td>293.0</td>\n",
              "      <td>0</td>\n",
              "      <td>4</td>\n",
              "      <td>588</td>\n",
              "      <td>1.0</td>\n",
              "      <td>0.0</td>\n",
              "      <td>1989.0</td>\n",
              "    </tr>\n",
              "    <tr>\n",
              "      <th>8</th>\n",
              "      <td>0.0</td>\n",
              "      <td>0.0</td>\n",
              "      <td>442.0</td>\n",
              "      <td>0.0</td>\n",
              "      <td>1.0</td>\n",
              "      <td>293.0</td>\n",
              "      <td>0.0</td>\n",
              "      <td>3.0</td>\n",
              "      <td>293.0</td>\n",
              "      <td>0.0</td>\n",
              "      <td>4.0</td>\n",
              "      <td>588.0</td>\n",
              "      <td>0</td>\n",
              "      <td>4</td>\n",
              "      <td>147</td>\n",
              "      <td>1.0</td>\n",
              "      <td>0.0</td>\n",
              "      <td>1326.0</td>\n",
              "    </tr>\n",
              "    <tr>\n",
              "      <th>...</th>\n",
              "      <td>...</td>\n",
              "      <td>...</td>\n",
              "      <td>...</td>\n",
              "      <td>...</td>\n",
              "      <td>...</td>\n",
              "      <td>...</td>\n",
              "      <td>...</td>\n",
              "      <td>...</td>\n",
              "      <td>...</td>\n",
              "      <td>...</td>\n",
              "      <td>...</td>\n",
              "      <td>...</td>\n",
              "      <td>...</td>\n",
              "      <td>...</td>\n",
              "      <td>...</td>\n",
              "      <td>...</td>\n",
              "      <td>...</td>\n",
              "      <td>...</td>\n",
              "    </tr>\n",
              "    <tr>\n",
              "      <th>749</th>\n",
              "      <td>50.0</td>\n",
              "      <td>1.0</td>\n",
              "      <td>147.0</td>\n",
              "      <td>50.0</td>\n",
              "      <td>2.0</td>\n",
              "      <td>293.0</td>\n",
              "      <td>50.0</td>\n",
              "      <td>2.0</td>\n",
              "      <td>147.0</td>\n",
              "      <td>50.0</td>\n",
              "      <td>3.0</td>\n",
              "      <td>293.0</td>\n",
              "      <td>50</td>\n",
              "      <td>3</td>\n",
              "      <td>293</td>\n",
              "      <td>53.0</td>\n",
              "      <td>0.0</td>\n",
              "      <td>2991.0</td>\n",
              "    </tr>\n",
              "    <tr>\n",
              "      <th>750</th>\n",
              "      <td>50.0</td>\n",
              "      <td>2.0</td>\n",
              "      <td>293.0</td>\n",
              "      <td>50.0</td>\n",
              "      <td>2.0</td>\n",
              "      <td>147.0</td>\n",
              "      <td>50.0</td>\n",
              "      <td>3.0</td>\n",
              "      <td>293.0</td>\n",
              "      <td>50.0</td>\n",
              "      <td>3.0</td>\n",
              "      <td>293.0</td>\n",
              "      <td>50</td>\n",
              "      <td>3</td>\n",
              "      <td>147</td>\n",
              "      <td>54.0</td>\n",
              "      <td>0.0</td>\n",
              "      <td>4125.0</td>\n",
              "    </tr>\n",
              "    <tr>\n",
              "      <th>751</th>\n",
              "      <td>50.0</td>\n",
              "      <td>2.0</td>\n",
              "      <td>147.0</td>\n",
              "      <td>50.0</td>\n",
              "      <td>3.0</td>\n",
              "      <td>293.0</td>\n",
              "      <td>50.0</td>\n",
              "      <td>3.0</td>\n",
              "      <td>293.0</td>\n",
              "      <td>50.0</td>\n",
              "      <td>3.0</td>\n",
              "      <td>147.0</td>\n",
              "      <td>50</td>\n",
              "      <td>4</td>\n",
              "      <td>147</td>\n",
              "      <td>54.0</td>\n",
              "      <td>0.0</td>\n",
              "      <td>442.0</td>\n",
              "    </tr>\n",
              "    <tr>\n",
              "      <th>752</th>\n",
              "      <td>50.0</td>\n",
              "      <td>3.0</td>\n",
              "      <td>293.0</td>\n",
              "      <td>50.0</td>\n",
              "      <td>3.0</td>\n",
              "      <td>293.0</td>\n",
              "      <td>50.0</td>\n",
              "      <td>3.0</td>\n",
              "      <td>147.0</td>\n",
              "      <td>50.0</td>\n",
              "      <td>4.0</td>\n",
              "      <td>147.0</td>\n",
              "      <td>50</td>\n",
              "      <td>5</td>\n",
              "      <td>147</td>\n",
              "      <td>55.0</td>\n",
              "      <td>0.0</td>\n",
              "      <td>678.0</td>\n",
              "    </tr>\n",
              "    <tr>\n",
              "      <th>753</th>\n",
              "      <td>50.0</td>\n",
              "      <td>3.0</td>\n",
              "      <td>293.0</td>\n",
              "      <td>50.0</td>\n",
              "      <td>3.0</td>\n",
              "      <td>147.0</td>\n",
              "      <td>50.0</td>\n",
              "      <td>4.0</td>\n",
              "      <td>147.0</td>\n",
              "      <td>50.0</td>\n",
              "      <td>5.0</td>\n",
              "      <td>147.0</td>\n",
              "      <td>50</td>\n",
              "      <td>6</td>\n",
              "      <td>147</td>\n",
              "      <td>56.0</td>\n",
              "      <td>0.0</td>\n",
              "      <td>442.0</td>\n",
              "    </tr>\n",
              "  </tbody>\n",
              "</table>\n",
              "<p>750 rows × 18 columns</p>\n",
              "</div>"
            ],
            "text/plain": [
              "     store(t-4)  item(t-4)  sales(t-4)  ...  store(t+8)  item(t+8)  sales(t+8)\n",
              "4           0.0        0.0      1326.0  ...         0.0        6.0       147.0\n",
              "5           0.0        0.0       442.0  ...         0.0        7.0       561.0\n",
              "6           0.0        0.0       663.0  ...         1.0        0.0       442.0\n",
              "7           0.0        0.0      2210.0  ...         1.0        0.0      1989.0\n",
              "8           0.0        0.0       442.0  ...         1.0        0.0      1326.0\n",
              "..          ...        ...         ...  ...         ...        ...         ...\n",
              "749        50.0        1.0       147.0  ...        53.0        0.0      2991.0\n",
              "750        50.0        2.0       293.0  ...        54.0        0.0      4125.0\n",
              "751        50.0        2.0       147.0  ...        54.0        0.0       442.0\n",
              "752        50.0        3.0       293.0  ...        55.0        0.0       678.0\n",
              "753        50.0        3.0       293.0  ...        56.0        0.0       442.0\n",
              "\n",
              "[750 rows x 18 columns]"
            ]
          },
          "metadata": {},
          "execution_count": 36
        }
      ]
    },
    {
      "cell_type": "code",
      "metadata": {
        "colab": {
          "base_uri": "https://localhost:8080/"
        },
        "id": "PmAeHlPUJ74U",
        "outputId": "35297e6c-721c-4d7a-dd74-c49256042450"
      },
      "source": [
        "series.astype"
      ],
      "execution_count": null,
      "outputs": [
        {
          "output_type": "execute_result",
          "data": {
            "text/plain": [
              "<bound method NDFrame.astype of      sales(t-4)  sales(t-3)  sales(t-2)  sales(t-1)  sales(t)\n",
              "4        1326.0       442.0       663.0      2210.0       442\n",
              "18        442.0      1989.0      1326.0       884.0      1532\n",
              "19       1989.0      1326.0       884.0      1532.0      1547\n",
              "20       1326.0       884.0      1532.0      1547.0      2210\n",
              "21        884.0      1532.0      1547.0      2210.0      1326\n",
              "..          ...         ...         ...         ...       ...\n",
              "700       221.0       575.0      1238.0         0.0       575\n",
              "715      1105.0      1768.0       619.0       663.0       221\n",
              "716      1768.0       619.0       663.0       221.0       884\n",
              "717       619.0       663.0       221.0       884.0      1105\n",
              "718       663.0       221.0       884.0      1105.0      1105\n",
              "\n",
              "[190 rows x 5 columns]>"
            ]
          },
          "metadata": {},
          "execution_count": 47
        }
      ]
    },
    {
      "cell_type": "markdown",
      "metadata": {
        "_uuid": "f147b4d5ed1cde12436d07fb13fff6c074857f2f",
        "id": "2YwxIyCtiaXC"
      },
      "source": [
        "#### Drop rows with different item or store values than the shifted columns"
      ]
    },
    {
      "cell_type": "code",
      "metadata": {
        "trusted": true,
        "_uuid": "bcc650cb3df2f11a58b4288171663d67cab5f4f7",
        "id": "-UPTEjmyiaXC"
      },
      "source": [
        "last_item = 'item(t-%d)' % window\n",
        "last_store = 'store(t-%d)' % window\n",
        "series = series[(series['store(t)'] == series[last_store])]\n",
        "series = series[(series['item(t)'] == series[last_item])]"
      ],
      "execution_count": null,
      "outputs": []
    },
    {
      "cell_type": "markdown",
      "metadata": {
        "_uuid": "07c8a6ac6dbbe309b626d4e2f47a44fae987875c",
        "id": "tOuoODU4iaXC"
      },
      "source": [
        "#### Remove unwanted columns"
      ]
    },
    {
      "cell_type": "code",
      "metadata": {
        "trusted": true,
        "_uuid": "830f58c2a435ce18271629008fb1cd79c9323ead",
        "id": "PCchTDjziaXC"
      },
      "source": [
        "columns_to_drop = [('%s(t+%d)' % (col, lag)) for col in ['item', 'store']]\n",
        "for i in range(window, 0, -1):\n",
        "    columns_to_drop += [('%s(t-%d)' % (col, i)) for col in ['item', 'store']]\n",
        "series.drop(columns_to_drop, axis=1, inplace=True)\n",
        "series.drop(['item(t)', 'store(t)'], axis=1, inplace=True)"
      ],
      "execution_count": null,
      "outputs": []
    },
    {
      "cell_type": "code",
      "metadata": {
        "colab": {
          "base_uri": "https://localhost:8080/",
          "height": 417
        },
        "id": "mqQ-jlTfAU1O",
        "outputId": "4ba76d04-34df-4b60-d6a6-3a9688cc0576"
      },
      "source": [
        "series"
      ],
      "execution_count": null,
      "outputs": [
        {
          "output_type": "execute_result",
          "data": {
            "text/html": [
              "<div>\n",
              "<style scoped>\n",
              "    .dataframe tbody tr th:only-of-type {\n",
              "        vertical-align: middle;\n",
              "    }\n",
              "\n",
              "    .dataframe tbody tr th {\n",
              "        vertical-align: top;\n",
              "    }\n",
              "\n",
              "    .dataframe thead th {\n",
              "        text-align: right;\n",
              "    }\n",
              "</style>\n",
              "<table border=\"1\" class=\"dataframe\">\n",
              "  <thead>\n",
              "    <tr style=\"text-align: right;\">\n",
              "      <th></th>\n",
              "      <th>sales(t-4)</th>\n",
              "      <th>sales(t-3)</th>\n",
              "      <th>sales(t-2)</th>\n",
              "      <th>sales(t-1)</th>\n",
              "      <th>sales(t)</th>\n",
              "      <th>sales(t+8)</th>\n",
              "    </tr>\n",
              "  </thead>\n",
              "  <tbody>\n",
              "    <tr>\n",
              "      <th>4</th>\n",
              "      <td>1326.0</td>\n",
              "      <td>442.0</td>\n",
              "      <td>663.0</td>\n",
              "      <td>2210.0</td>\n",
              "      <td>442</td>\n",
              "      <td>147.0</td>\n",
              "    </tr>\n",
              "    <tr>\n",
              "      <th>18</th>\n",
              "      <td>442.0</td>\n",
              "      <td>1989.0</td>\n",
              "      <td>1326.0</td>\n",
              "      <td>884.0</td>\n",
              "      <td>1532</td>\n",
              "      <td>879.0</td>\n",
              "    </tr>\n",
              "    <tr>\n",
              "      <th>19</th>\n",
              "      <td>1989.0</td>\n",
              "      <td>1326.0</td>\n",
              "      <td>884.0</td>\n",
              "      <td>1532.0</td>\n",
              "      <td>1547</td>\n",
              "      <td>586.0</td>\n",
              "    </tr>\n",
              "    <tr>\n",
              "      <th>20</th>\n",
              "      <td>1326.0</td>\n",
              "      <td>884.0</td>\n",
              "      <td>1532.0</td>\n",
              "      <td>1547.0</td>\n",
              "      <td>2210</td>\n",
              "      <td>293.0</td>\n",
              "    </tr>\n",
              "    <tr>\n",
              "      <th>21</th>\n",
              "      <td>884.0</td>\n",
              "      <td>1532.0</td>\n",
              "      <td>1547.0</td>\n",
              "      <td>2210.0</td>\n",
              "      <td>1326</td>\n",
              "      <td>293.0</td>\n",
              "    </tr>\n",
              "    <tr>\n",
              "      <th>...</th>\n",
              "      <td>...</td>\n",
              "      <td>...</td>\n",
              "      <td>...</td>\n",
              "      <td>...</td>\n",
              "      <td>...</td>\n",
              "      <td>...</td>\n",
              "    </tr>\n",
              "    <tr>\n",
              "      <th>700</th>\n",
              "      <td>221.0</td>\n",
              "      <td>575.0</td>\n",
              "      <td>1238.0</td>\n",
              "      <td>0.0</td>\n",
              "      <td>575</td>\n",
              "      <td>293.0</td>\n",
              "    </tr>\n",
              "    <tr>\n",
              "      <th>715</th>\n",
              "      <td>1105.0</td>\n",
              "      <td>1768.0</td>\n",
              "      <td>619.0</td>\n",
              "      <td>663.0</td>\n",
              "      <td>221</td>\n",
              "      <td>2284.0</td>\n",
              "    </tr>\n",
              "    <tr>\n",
              "      <th>716</th>\n",
              "      <td>1768.0</td>\n",
              "      <td>619.0</td>\n",
              "      <td>663.0</td>\n",
              "      <td>221.0</td>\n",
              "      <td>884</td>\n",
              "      <td>221.0</td>\n",
              "    </tr>\n",
              "    <tr>\n",
              "      <th>717</th>\n",
              "      <td>619.0</td>\n",
              "      <td>663.0</td>\n",
              "      <td>221.0</td>\n",
              "      <td>884.0</td>\n",
              "      <td>1105</td>\n",
              "      <td>221.0</td>\n",
              "    </tr>\n",
              "    <tr>\n",
              "      <th>718</th>\n",
              "      <td>663.0</td>\n",
              "      <td>221.0</td>\n",
              "      <td>884.0</td>\n",
              "      <td>1105.0</td>\n",
              "      <td>1105</td>\n",
              "      <td>3875.0</td>\n",
              "    </tr>\n",
              "  </tbody>\n",
              "</table>\n",
              "<p>190 rows × 6 columns</p>\n",
              "</div>"
            ],
            "text/plain": [
              "     sales(t-4)  sales(t-3)  sales(t-2)  sales(t-1)  sales(t)  sales(t+8)\n",
              "4        1326.0       442.0       663.0      2210.0       442       147.0\n",
              "18        442.0      1989.0      1326.0       884.0      1532       879.0\n",
              "19       1989.0      1326.0       884.0      1532.0      1547       586.0\n",
              "20       1326.0       884.0      1532.0      1547.0      2210       293.0\n",
              "21        884.0      1532.0      1547.0      2210.0      1326       293.0\n",
              "..          ...         ...         ...         ...       ...         ...\n",
              "700       221.0       575.0      1238.0         0.0       575       293.0\n",
              "715      1105.0      1768.0       619.0       663.0       221      2284.0\n",
              "716      1768.0       619.0       663.0       221.0       884       221.0\n",
              "717       619.0       663.0       221.0       884.0      1105       221.0\n",
              "718       663.0       221.0       884.0      1105.0      1105      3875.0\n",
              "\n",
              "[190 rows x 6 columns]"
            ]
          },
          "metadata": {},
          "execution_count": 39
        }
      ]
    },
    {
      "cell_type": "code",
      "metadata": {
        "colab": {
          "base_uri": "https://localhost:8080/",
          "height": 35
        },
        "id": "EndusPzeIMQN",
        "outputId": "a5781c41-46d5-46dd-dc06-a7be830b937e"
      },
      "source": [
        "labels_col = 'sales(t+%d)' % lag\n",
        "labels = series[labels_col]\n",
        "labels_col"
      ],
      "execution_count": null,
      "outputs": [
        {
          "output_type": "execute_result",
          "data": {
            "application/vnd.google.colaboratory.intrinsic+json": {
              "type": "string"
            },
            "text/plain": [
              "'sales(t+8)'"
            ]
          },
          "metadata": {},
          "execution_count": 40
        }
      ]
    },
    {
      "cell_type": "code",
      "metadata": {
        "colab": {
          "base_uri": "https://localhost:8080/"
        },
        "id": "s6js3Le1IRNj",
        "outputId": "40df3250-ad97-4cad-d599-a21d2e0245bb"
      },
      "source": [
        "labels"
      ],
      "execution_count": null,
      "outputs": [
        {
          "output_type": "execute_result",
          "data": {
            "text/plain": [
              "4       147.0\n",
              "18      879.0\n",
              "19      586.0\n",
              "20      293.0\n",
              "21      293.0\n",
              "        ...  \n",
              "700     293.0\n",
              "715    2284.0\n",
              "716     221.0\n",
              "717     221.0\n",
              "718    3875.0\n",
              "Name: sales(t+8), Length: 190, dtype: float64"
            ]
          },
          "metadata": {},
          "execution_count": 41
        }
      ]
    },
    {
      "cell_type": "code",
      "metadata": {
        "id": "u78dHlttIOTa"
      },
      "source": [
        "series = series.drop(labels_col, axis=1)"
      ],
      "execution_count": null,
      "outputs": []
    },
    {
      "cell_type": "markdown",
      "metadata": {
        "_uuid": "cdb34762d10c594f403df21519abb22601bf4e01",
        "id": "kyhQZ5KjiaXC"
      },
      "source": [
        "### Train/validation split"
      ]
    },
    {
      "cell_type": "code",
      "metadata": {
        "trusted": true,
        "_uuid": "389bfd84bc41a330b2f5ec84dd0ca7517eb52e31",
        "colab": {
          "base_uri": "https://localhost:8080/",
          "height": 236
        },
        "id": "L8ZMXcRLiaXD",
        "outputId": "bd5aa921-ebdd-46db-bc19-a2d239562295"
      },
      "source": [
        "# Label\n",
        "\n",
        "\n",
        "X_train, X_valid, Y_train, Y_valid = train_test_split(series, labels.values, test_size=0.2, random_state=0)\n",
        "print('Train set shape', X_train.shape)\n",
        "print('Validation set shape', X_valid.shape)\n",
        "X_train.head()"
      ],
      "execution_count": null,
      "outputs": [
        {
          "output_type": "stream",
          "text": [
            "Train set shape (152, 5)\n",
            "Validation set shape (38, 5)\n"
          ],
          "name": "stdout"
        },
        {
          "output_type": "execute_result",
          "data": {
            "text/html": [
              "<div>\n",
              "<style scoped>\n",
              "    .dataframe tbody tr th:only-of-type {\n",
              "        vertical-align: middle;\n",
              "    }\n",
              "\n",
              "    .dataframe tbody tr th {\n",
              "        vertical-align: top;\n",
              "    }\n",
              "\n",
              "    .dataframe thead th {\n",
              "        text-align: right;\n",
              "    }\n",
              "</style>\n",
              "<table border=\"1\" class=\"dataframe\">\n",
              "  <thead>\n",
              "    <tr style=\"text-align: right;\">\n",
              "      <th></th>\n",
              "      <th>sales(t-4)</th>\n",
              "      <th>sales(t-3)</th>\n",
              "      <th>sales(t-2)</th>\n",
              "      <th>sales(t-1)</th>\n",
              "      <th>sales(t)</th>\n",
              "    </tr>\n",
              "  </thead>\n",
              "  <tbody>\n",
              "    <tr>\n",
              "      <th>352</th>\n",
              "      <td>2344.0</td>\n",
              "      <td>3516.0</td>\n",
              "      <td>293.0</td>\n",
              "      <td>879.0</td>\n",
              "      <td>1172</td>\n",
              "    </tr>\n",
              "    <tr>\n",
              "      <th>48</th>\n",
              "      <td>11713.0</td>\n",
              "      <td>5083.0</td>\n",
              "      <td>663.0</td>\n",
              "      <td>1238.0</td>\n",
              "      <td>3698</td>\n",
              "    </tr>\n",
              "    <tr>\n",
              "      <th>339</th>\n",
              "      <td>221.0</td>\n",
              "      <td>884.0</td>\n",
              "      <td>869.0</td>\n",
              "      <td>3094.0</td>\n",
              "      <td>3536</td>\n",
              "    </tr>\n",
              "    <tr>\n",
              "      <th>298</th>\n",
              "      <td>2210.0</td>\n",
              "      <td>3094.0</td>\n",
              "      <td>2593.0</td>\n",
              "      <td>2210.0</td>\n",
              "      <td>2195</td>\n",
              "    </tr>\n",
              "    <tr>\n",
              "      <th>299</th>\n",
              "      <td>3094.0</td>\n",
              "      <td>2593.0</td>\n",
              "      <td>2210.0</td>\n",
              "      <td>2195.0</td>\n",
              "      <td>1547</td>\n",
              "    </tr>\n",
              "  </tbody>\n",
              "</table>\n",
              "</div>"
            ],
            "text/plain": [
              "     sales(t-4)  sales(t-3)  sales(t-2)  sales(t-1)  sales(t)\n",
              "352      2344.0      3516.0       293.0       879.0      1172\n",
              "48      11713.0      5083.0       663.0      1238.0      3698\n",
              "339       221.0       884.0       869.0      3094.0      3536\n",
              "298      2210.0      3094.0      2593.0      2210.0      2195\n",
              "299      3094.0      2593.0      2210.0      2195.0      1547"
            ]
          },
          "metadata": {},
          "execution_count": 43
        }
      ]
    },
    {
      "cell_type": "code",
      "metadata": {
        "colab": {
          "base_uri": "https://localhost:8080/",
          "height": 415
        },
        "id": "YVRZQe9EF_SD",
        "outputId": "a9e9fcfd-2a2f-476e-c810-a7b753982a73"
      },
      "source": [
        "series"
      ],
      "execution_count": null,
      "outputs": [
        {
          "output_type": "execute_result",
          "data": {
            "text/html": [
              "<div>\n",
              "<style scoped>\n",
              "    .dataframe tbody tr th:only-of-type {\n",
              "        vertical-align: middle;\n",
              "    }\n",
              "\n",
              "    .dataframe tbody tr th {\n",
              "        vertical-align: top;\n",
              "    }\n",
              "\n",
              "    .dataframe thead th {\n",
              "        text-align: right;\n",
              "    }\n",
              "</style>\n",
              "<table border=\"1\" class=\"dataframe\">\n",
              "  <thead>\n",
              "    <tr style=\"text-align: right;\">\n",
              "      <th></th>\n",
              "      <th>sales(t-4)</th>\n",
              "      <th>sales(t-3)</th>\n",
              "      <th>sales(t-2)</th>\n",
              "      <th>sales(t-1)</th>\n",
              "      <th>sales(t)</th>\n",
              "    </tr>\n",
              "  </thead>\n",
              "  <tbody>\n",
              "    <tr>\n",
              "      <th>4</th>\n",
              "      <td>1326.0</td>\n",
              "      <td>442.0</td>\n",
              "      <td>663.0</td>\n",
              "      <td>2210.0</td>\n",
              "      <td>442</td>\n",
              "    </tr>\n",
              "    <tr>\n",
              "      <th>18</th>\n",
              "      <td>442.0</td>\n",
              "      <td>1989.0</td>\n",
              "      <td>1326.0</td>\n",
              "      <td>884.0</td>\n",
              "      <td>1532</td>\n",
              "    </tr>\n",
              "    <tr>\n",
              "      <th>19</th>\n",
              "      <td>1989.0</td>\n",
              "      <td>1326.0</td>\n",
              "      <td>884.0</td>\n",
              "      <td>1532.0</td>\n",
              "      <td>1547</td>\n",
              "    </tr>\n",
              "    <tr>\n",
              "      <th>20</th>\n",
              "      <td>1326.0</td>\n",
              "      <td>884.0</td>\n",
              "      <td>1532.0</td>\n",
              "      <td>1547.0</td>\n",
              "      <td>2210</td>\n",
              "    </tr>\n",
              "    <tr>\n",
              "      <th>21</th>\n",
              "      <td>884.0</td>\n",
              "      <td>1532.0</td>\n",
              "      <td>1547.0</td>\n",
              "      <td>2210.0</td>\n",
              "      <td>1326</td>\n",
              "    </tr>\n",
              "    <tr>\n",
              "      <th>...</th>\n",
              "      <td>...</td>\n",
              "      <td>...</td>\n",
              "      <td>...</td>\n",
              "      <td>...</td>\n",
              "      <td>...</td>\n",
              "    </tr>\n",
              "    <tr>\n",
              "      <th>700</th>\n",
              "      <td>221.0</td>\n",
              "      <td>575.0</td>\n",
              "      <td>1238.0</td>\n",
              "      <td>0.0</td>\n",
              "      <td>575</td>\n",
              "    </tr>\n",
              "    <tr>\n",
              "      <th>715</th>\n",
              "      <td>1105.0</td>\n",
              "      <td>1768.0</td>\n",
              "      <td>619.0</td>\n",
              "      <td>663.0</td>\n",
              "      <td>221</td>\n",
              "    </tr>\n",
              "    <tr>\n",
              "      <th>716</th>\n",
              "      <td>1768.0</td>\n",
              "      <td>619.0</td>\n",
              "      <td>663.0</td>\n",
              "      <td>221.0</td>\n",
              "      <td>884</td>\n",
              "    </tr>\n",
              "    <tr>\n",
              "      <th>717</th>\n",
              "      <td>619.0</td>\n",
              "      <td>663.0</td>\n",
              "      <td>221.0</td>\n",
              "      <td>884.0</td>\n",
              "      <td>1105</td>\n",
              "    </tr>\n",
              "    <tr>\n",
              "      <th>718</th>\n",
              "      <td>663.0</td>\n",
              "      <td>221.0</td>\n",
              "      <td>884.0</td>\n",
              "      <td>1105.0</td>\n",
              "      <td>1105</td>\n",
              "    </tr>\n",
              "  </tbody>\n",
              "</table>\n",
              "<p>190 rows × 5 columns</p>\n",
              "</div>"
            ],
            "text/plain": [
              "     sales(t-4)  sales(t-3)  sales(t-2)  sales(t-1)  sales(t)\n",
              "4        1326.0       442.0       663.0      2210.0       442\n",
              "18        442.0      1989.0      1326.0       884.0      1532\n",
              "19       1989.0      1326.0       884.0      1532.0      1547\n",
              "20       1326.0       884.0      1532.0      1547.0      2210\n",
              "21        884.0      1532.0      1547.0      2210.0      1326\n",
              "..          ...         ...         ...         ...       ...\n",
              "700       221.0       575.0      1238.0         0.0       575\n",
              "715      1105.0      1768.0       619.0       663.0       221\n",
              "716      1768.0       619.0       663.0       221.0       884\n",
              "717       619.0       663.0       221.0       884.0      1105\n",
              "718       663.0       221.0       884.0      1105.0      1105\n",
              "\n",
              "[190 rows x 5 columns]"
            ]
          },
          "metadata": {},
          "execution_count": 44
        }
      ]
    },
    {
      "cell_type": "code",
      "metadata": {
        "id": "a7pM5U6KDRzJ"
      },
      "source": [
        "series"
      ],
      "execution_count": null,
      "outputs": []
    },
    {
      "cell_type": "code",
      "metadata": {
        "id": "jl-EGQ94BWMZ"
      },
      "source": [
        "Y_train"
      ],
      "execution_count": null,
      "outputs": []
    },
    {
      "cell_type": "code",
      "metadata": {
        "id": "SCDi1lfvA00S"
      },
      "source": [
        "err"
      ],
      "execution_count": null,
      "outputs": []
    },
    {
      "cell_type": "markdown",
      "metadata": {
        "_uuid": "1c6dbf5e8699ea64e929009e7c47625eab207535",
        "id": "BAez_uVFiaXD"
      },
      "source": [
        "### MLP for Time Series Forecasting\n",
        "\n",
        "* First we will use a Multilayer Perceptron model or MLP model, here our model will have input features equal to the window size.\n",
        "* The thing with MLP models is that the model don't take the input as sequenced data, so for the model, it is just receiving inputs and don't treat them as sequenced data, that may be a problem since the model won't see the data with the sequence patter that it has.\n",
        "* Input shape **[samples, timesteps]**."
      ]
    },
    {
      "cell_type": "code",
      "metadata": {
        "trusted": true,
        "_uuid": "47962d535b4dddea0588a416ed742b23fdc44db0",
        "id": "U7pBfk_TiaXD",
        "colab": {
          "base_uri": "https://localhost:8080/",
          "height": 195
        },
        "outputId": "26c3773c-c3a0-4796-e8a4-5bff038c40ad"
      },
      "source": [
        "epochs = 10\n",
        "batch = 50\n",
        "lr = 0.01\n",
        "adam = optimizers.Adam(lr)"
      ],
      "execution_count": null,
      "outputs": [
        {
          "output_type": "error",
          "ename": "AttributeError",
          "evalue": "ignored",
          "traceback": [
            "\u001b[0;31m---------------------------------------------------------------------------\u001b[0m",
            "\u001b[0;31mAttributeError\u001b[0m                            Traceback (most recent call last)",
            "\u001b[0;32m<ipython-input-48-949d292dd0c3>\u001b[0m in \u001b[0;36m<module>\u001b[0;34m()\u001b[0m\n\u001b[1;32m      2\u001b[0m \u001b[0mbatch\u001b[0m \u001b[0;34m=\u001b[0m \u001b[0;36m50\u001b[0m\u001b[0;34m\u001b[0m\u001b[0;34m\u001b[0m\u001b[0m\n\u001b[1;32m      3\u001b[0m \u001b[0mlr\u001b[0m \u001b[0;34m=\u001b[0m \u001b[0;36m0.01\u001b[0m\u001b[0;34m\u001b[0m\u001b[0;34m\u001b[0m\u001b[0m\n\u001b[0;32m----> 4\u001b[0;31m \u001b[0madam\u001b[0m \u001b[0;34m=\u001b[0m \u001b[0moptimizers\u001b[0m\u001b[0;34m.\u001b[0m\u001b[0mAdam\u001b[0m\u001b[0;34m(\u001b[0m\u001b[0mlr\u001b[0m\u001b[0;34m)\u001b[0m\u001b[0;34m\u001b[0m\u001b[0;34m\u001b[0m\u001b[0m\n\u001b[0m",
            "\u001b[0;31mAttributeError\u001b[0m: module 'keras.optimizers' has no attribute 'Adam'"
          ]
        }
      ]
    },
    {
      "cell_type": "code",
      "metadata": {
        "trusted": true,
        "_uuid": "da03328a583580969bd2603c1348b939d533092d",
        "id": "O7hXSKPpiaXD"
      },
      "source": [
        "model_mlp = Sequential()\n",
        "model_mlp.add(Dense(2, activation='relu', input_dim=X_train.shape[1]))\n",
        "model_mlp.add(Dense(1))\n",
        "model_mlp.compile(loss='mse', optimizer=adam)\n",
        "model_mlp.summary()"
      ],
      "execution_count": null,
      "outputs": []
    },
    {
      "cell_type": "code",
      "metadata": {
        "trusted": true,
        "_uuid": "c741ddf5b382617173ef09450a836f940ab4f340",
        "_kg_hide-output": true,
        "id": "azYpnzK8iaXD"
      },
      "source": [
        "mlp_history = model_mlp.fit(X_train.values, Y_train, validation_data=(X_valid.values, Y_valid), epochs=epochs, verbose=2)"
      ],
      "execution_count": null,
      "outputs": []
    },
    {
      "cell_type": "code",
      "metadata": {
        "trusted": true,
        "_uuid": "00b13a9d49412dd9a50c7a213a042c47e05a53c0",
        "id": "Ptst_14eiaXE"
      },
      "source": [
        "X_train_series = X_train.values.reshape((X_train.shape[0], X_train.shape[1], 1))\n",
        "X_valid_series = X_valid.values.reshape((X_valid.shape[0], X_valid.shape[1], 1))\n",
        "print('Train set shape', X_train_series.shape)\n",
        "print('Validation set shape', X_valid_series.shape)"
      ],
      "execution_count": null,
      "outputs": []
    },
    {
      "cell_type": "code",
      "metadata": {
        "trusted": true,
        "_uuid": "846fccfaa8d3761bbfc57b05ab447e9da07367ee",
        "id": "rHcJzwVXiaXE"
      },
      "source": [
        "model_cnn = Sequential()\n",
        "model_cnn.add(Conv1D(filters=5, kernel_size=2, activation='relu', input_shape=(X_train_series.shape[1], X_train_series.shape[2])))\n",
        "model_cnn.add(MaxPooling1D(pool_size=2))\n",
        "model_cnn.add(Flatten())\n",
        "model_cnn.add(Dense(3, activation='relu'))\n",
        "model_cnn.add(Dense(1))\n",
        "model_cnn.compile(loss='mse', optimizer=adam)\n",
        "model_cnn.summary()"
      ],
      "execution_count": null,
      "outputs": []
    },
    {
      "cell_type": "code",
      "metadata": {
        "trusted": true,
        "_uuid": "02870e84ad2997b21994732794251b5d5865211a",
        "_kg_hide-output": true,
        "id": "kg7HspgaiaXE"
      },
      "source": [
        "cnn_history = model_cnn.fit(X_train_series, Y_train, validation_data=(X_valid_series, Y_valid), epochs=epochs, verbose=2)"
      ],
      "execution_count": null,
      "outputs": []
    },
    {
      "cell_type": "markdown",
      "metadata": {
        "_uuid": "5eac02f27336cb62fa2de354ef647caa3fb4934e",
        "id": "MuABS8eCiaXF"
      },
      "source": [
        "### LSTM for Time Series Forecasting\n",
        "\n"
      ]
    },
    {
      "cell_type": "code",
      "metadata": {
        "trusted": true,
        "_uuid": "522965ca3e2490b8243032c6418ce50d5b724872",
        "id": "RmCRLJ-aiaXF"
      },
      "source": [
        "model_lstm = Sequential()\n",
        "model_lstm.add(LSTM(2, input_shape=(X_train_series.shape[1], X_train_series.shape[2])))\n",
        "model_lstm.add(Dense(1))\n",
        "model_lstm.compile(loss='mse', optimizer=adam)\n",
        "model_lstm.summary()"
      ],
      "execution_count": null,
      "outputs": []
    },
    {
      "cell_type": "code",
      "metadata": {
        "trusted": true,
        "_uuid": "48ac362d2a96028dc2bba1477b3d357c4d79668d",
        "_kg_hide-output": true,
        "id": "tPJzkIS-iaXF"
      },
      "source": [
        "lstm_history = model_lstm.fit(X_train_series, Y_train, validation_data=(X_valid_series, Y_valid), epochs=epochs, verbose=2)"
      ],
      "execution_count": null,
      "outputs": []
    },
    {
      "cell_type": "markdown",
      "metadata": {
        "trusted": true,
        "_uuid": "624df546d7a4f95d8f9bd51d065e472568b25eb2",
        "id": "7iyOUKtriaXH"
      },
      "source": [
        "### Comparing models"
      ]
    },
    {
      "cell_type": "code",
      "metadata": {
        "trusted": true,
        "_uuid": "47d797354baed8299917542f3a541e61e140e822",
        "_kg_hide-input": true,
        "id": "iWQYQd_PiaXH"
      },
      "source": [
        "fig, axes = plt.subplots(2, 2, sharex=True, sharey=True,figsize=(22,12))\n",
        "ax1, ax2 = axes[0]\n",
        "ax3, ax4 = axes[1]\n",
        "\n",
        "ax1.plot(mlp_history.history['loss'], label='Train loss')\n",
        "ax1.plot(mlp_history.history['val_loss'], label='Validation loss')\n",
        "ax1.legend(loc='best')\n",
        "ax1.set_title('MLP')\n",
        "ax1.set_xlabel('Epochs')\n",
        "ax1.set_ylabel('MSE')\n",
        "\n",
        "ax2.plot(cnn_history.history['loss'], label='Train loss')\n",
        "ax2.plot(cnn_history.history['val_loss'], label='Validation loss')\n",
        "ax2.legend(loc='best')\n",
        "ax2.set_title('CNN')\n",
        "ax2.set_xlabel('Epochs')\n",
        "ax2.set_ylabel('MSE')\n",
        "\n",
        "ax3.plot(lstm_history.history['loss'], label='Train loss')\n",
        "ax3.plot(lstm_history.history['val_loss'], label='Validation loss')\n",
        "ax3.legend(loc='best')\n",
        "ax3.set_title('LSTM')\n",
        "ax3.set_xlabel('Epochs')\n",
        "ax3.set_ylabel('MSE')\n",
        "\n",
        "plt.show()"
      ],
      "execution_count": null,
      "outputs": []
    },
    {
      "cell_type": "markdown",
      "metadata": {
        "_uuid": "13c7dc56802c04c698310f2fd424d2a001a3e995",
        "id": "tj4weCk3iaXH"
      },
      "source": [
        "#### MLP on train and validation"
      ]
    },
    {
      "cell_type": "code",
      "metadata": {
        "trusted": true,
        "_uuid": "17866c9d0ae37cae8e0da41b1d93d7d4049ad043",
        "_kg_hide-input": true,
        "id": "gEnOVpXfiaXH"
      },
      "source": [
        "from sklearn.metrics import r2_score\n",
        "\n",
        "mlp_train_pred = model_mlp.predict(X_train.values)\n",
        "mlp_valid_pred = model_mlp.predict(X_valid.values)\n",
        "print('Train rmse:', np.sqrt(mean_squared_error(Y_train, mlp_train_pred)))\n",
        "print('Validation rmse:', np.sqrt(mean_squared_error(Y_valid, mlp_valid_pred)))\n",
        "\n"
      ],
      "execution_count": null,
      "outputs": []
    },
    {
      "cell_type": "markdown",
      "metadata": {
        "_uuid": "425f734d0e4c46059138987de98936899ec3bdae",
        "id": "0Be9ddrSiaXH"
      },
      "source": [
        "#### CNN on train and validation"
      ]
    },
    {
      "cell_type": "code",
      "metadata": {
        "trusted": true,
        "_uuid": "eaa3ca7385ee7c8d884f5e1e6abd54c0aea91293",
        "_kg_hide-input": true,
        "id": "R8VZHIAZiaXI"
      },
      "source": [
        "cnn_train_pred = model_cnn.predict(X_train_series)\n",
        "cnn_valid_pred = model_cnn.predict(X_valid_series)\n",
        "print('Train rmse:', np.sqrt(mean_squared_error(Y_train, cnn_train_pred)))\n",
        "print('Validation rmse:', np.sqrt(mean_squared_error(Y_valid, cnn_valid_pred)))"
      ],
      "execution_count": null,
      "outputs": []
    },
    {
      "cell_type": "markdown",
      "metadata": {
        "_uuid": "2355313b77222db98a69564449942e3f8378336a",
        "id": "iJGITiHxiaXI"
      },
      "source": [
        "#### LSTM on train and validation"
      ]
    },
    {
      "cell_type": "code",
      "metadata": {
        "trusted": true,
        "_uuid": "939f86306a1325c949d8c97262147bcce4f88462",
        "_kg_hide-input": true,
        "id": "HNucVFV-iaXI"
      },
      "source": [
        "lstm_train_pred = model_lstm.predict(X_train_series)\n",
        "lstm_valid_pred = model_cnn.predict(X_valid_series)\n",
        "print('Train rmse:', np.sqrt(mean_squared_error(Y_train, lstm_train_pred)))\n",
        "print('Validation rmse:', np.sqrt(mean_squared_error(Y_valid, lstm_valid_pred)))"
      ],
      "execution_count": null,
      "outputs": []
    },
    {
      "cell_type": "code",
      "metadata": {
        "id": "gx3B7_5hV3u5"
      },
      "source": [
        "lstm_valid_pred-Y_valid\n"
      ],
      "execution_count": null,
      "outputs": []
    },
    {
      "cell_type": "code",
      "metadata": {
        "id": "udErHyVRvdJJ"
      },
      "source": [
        "ax1.plot(mlp_history.history['loss'], label='Train loss')\n",
        "ax1.plot(mlp_history.history['val_loss'], label='Validation loss')\n",
        "ax1.legend(loc='best')\n",
        "ax1.set_title('MLP')\n",
        "ax1.set_xlabel('Epochs')\n",
        "ax1.set_ylabel('MSE')"
      ],
      "execution_count": null,
      "outputs": []
    }
  ]
}